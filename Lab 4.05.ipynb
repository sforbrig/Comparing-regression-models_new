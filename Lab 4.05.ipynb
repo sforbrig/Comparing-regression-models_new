{
 "cells": [
  {
   "cell_type": "markdown",
   "id": "4cc35485",
   "metadata": {},
   "source": [
    "# Lab 4.02\n"
   ]
  },
  {
   "cell_type": "markdown",
   "id": "437b5b25",
   "metadata": {},
   "source": [
    "Cleaning categorical data\n",
    "For this lab, we will be using the dataset in the Customer Analysis Business Case. This dataset can be found in files_for_lab folder. In this lab we will explore categorical data."
   ]
  },
  {
   "cell_type": "markdown",
   "id": "f4421325",
   "metadata": {},
   "source": [
    "Instructions\n",
    "Import the necessary libraries if you are starting a new notebook. Using the same data as the previous lab: we_fn_use_c_marketing_customer_value_analysis.csv"
   ]
  },
  {
   "cell_type": "code",
   "execution_count": 1,
   "id": "eaa4c2c4",
   "metadata": {},
   "outputs": [],
   "source": [
    "import pandas as pd\n",
    "import seaborn as sns\n",
    "import matplotlib.pyplot as plt\n",
    "import numpy as np\n",
    "from sklearn.neighbors import KNeighborsRegressor, KNeighborsClassifier\n",
    "from IPython.display import display"
   ]
  },
  {
   "cell_type": "code",
   "execution_count": 2,
   "id": "52f245b9",
   "metadata": {},
   "outputs": [],
   "source": [
    "data = pd.read_csv('files_for_lab/we_fn_use_c_marketing_customer_value_analysis.csv')"
   ]
  },
  {
   "cell_type": "code",
   "execution_count": 3,
   "id": "d74ed3aa",
   "metadata": {},
   "outputs": [],
   "source": [
    "data.columns = list(map(lambda x: x.lower().replace(' ','_'), data.columns))"
   ]
  },
  {
   "cell_type": "code",
   "execution_count": 4,
   "id": "1a01c31e",
   "metadata": {},
   "outputs": [
    {
     "data": {
      "text/html": [
       "<div>\n",
       "<style scoped>\n",
       "    .dataframe tbody tr th:only-of-type {\n",
       "        vertical-align: middle;\n",
       "    }\n",
       "\n",
       "    .dataframe tbody tr th {\n",
       "        vertical-align: top;\n",
       "    }\n",
       "\n",
       "    .dataframe thead th {\n",
       "        text-align: right;\n",
       "    }\n",
       "</style>\n",
       "<table border=\"1\" class=\"dataframe\">\n",
       "  <thead>\n",
       "    <tr style=\"text-align: right;\">\n",
       "      <th></th>\n",
       "      <th>customer</th>\n",
       "      <th>state</th>\n",
       "      <th>customer_lifetime_value</th>\n",
       "      <th>response</th>\n",
       "      <th>coverage</th>\n",
       "      <th>education</th>\n",
       "      <th>effective_to_date</th>\n",
       "      <th>employmentstatus</th>\n",
       "      <th>gender</th>\n",
       "      <th>income</th>\n",
       "      <th>...</th>\n",
       "      <th>months_since_policy_inception</th>\n",
       "      <th>number_of_open_complaints</th>\n",
       "      <th>number_of_policies</th>\n",
       "      <th>policy_type</th>\n",
       "      <th>policy</th>\n",
       "      <th>renew_offer_type</th>\n",
       "      <th>sales_channel</th>\n",
       "      <th>total_claim_amount</th>\n",
       "      <th>vehicle_class</th>\n",
       "      <th>vehicle_size</th>\n",
       "    </tr>\n",
       "  </thead>\n",
       "  <tbody>\n",
       "    <tr>\n",
       "      <th>0</th>\n",
       "      <td>BU79786</td>\n",
       "      <td>Washington</td>\n",
       "      <td>2763.519279</td>\n",
       "      <td>No</td>\n",
       "      <td>Basic</td>\n",
       "      <td>Bachelor</td>\n",
       "      <td>2/24/11</td>\n",
       "      <td>Employed</td>\n",
       "      <td>F</td>\n",
       "      <td>56274</td>\n",
       "      <td>...</td>\n",
       "      <td>5</td>\n",
       "      <td>0</td>\n",
       "      <td>1</td>\n",
       "      <td>Corporate Auto</td>\n",
       "      <td>Corporate L3</td>\n",
       "      <td>Offer1</td>\n",
       "      <td>Agent</td>\n",
       "      <td>384.811147</td>\n",
       "      <td>Two-Door Car</td>\n",
       "      <td>Medsize</td>\n",
       "    </tr>\n",
       "    <tr>\n",
       "      <th>1</th>\n",
       "      <td>QZ44356</td>\n",
       "      <td>Arizona</td>\n",
       "      <td>6979.535903</td>\n",
       "      <td>No</td>\n",
       "      <td>Extended</td>\n",
       "      <td>Bachelor</td>\n",
       "      <td>1/31/11</td>\n",
       "      <td>Unemployed</td>\n",
       "      <td>F</td>\n",
       "      <td>0</td>\n",
       "      <td>...</td>\n",
       "      <td>42</td>\n",
       "      <td>0</td>\n",
       "      <td>8</td>\n",
       "      <td>Personal Auto</td>\n",
       "      <td>Personal L3</td>\n",
       "      <td>Offer3</td>\n",
       "      <td>Agent</td>\n",
       "      <td>1131.464935</td>\n",
       "      <td>Four-Door Car</td>\n",
       "      <td>Medsize</td>\n",
       "    </tr>\n",
       "    <tr>\n",
       "      <th>2</th>\n",
       "      <td>AI49188</td>\n",
       "      <td>Nevada</td>\n",
       "      <td>12887.431650</td>\n",
       "      <td>No</td>\n",
       "      <td>Premium</td>\n",
       "      <td>Bachelor</td>\n",
       "      <td>2/19/11</td>\n",
       "      <td>Employed</td>\n",
       "      <td>F</td>\n",
       "      <td>48767</td>\n",
       "      <td>...</td>\n",
       "      <td>38</td>\n",
       "      <td>0</td>\n",
       "      <td>2</td>\n",
       "      <td>Personal Auto</td>\n",
       "      <td>Personal L3</td>\n",
       "      <td>Offer1</td>\n",
       "      <td>Agent</td>\n",
       "      <td>566.472247</td>\n",
       "      <td>Two-Door Car</td>\n",
       "      <td>Medsize</td>\n",
       "    </tr>\n",
       "    <tr>\n",
       "      <th>3</th>\n",
       "      <td>WW63253</td>\n",
       "      <td>California</td>\n",
       "      <td>7645.861827</td>\n",
       "      <td>No</td>\n",
       "      <td>Basic</td>\n",
       "      <td>Bachelor</td>\n",
       "      <td>1/20/11</td>\n",
       "      <td>Unemployed</td>\n",
       "      <td>M</td>\n",
       "      <td>0</td>\n",
       "      <td>...</td>\n",
       "      <td>65</td>\n",
       "      <td>0</td>\n",
       "      <td>7</td>\n",
       "      <td>Corporate Auto</td>\n",
       "      <td>Corporate L2</td>\n",
       "      <td>Offer1</td>\n",
       "      <td>Call Center</td>\n",
       "      <td>529.881344</td>\n",
       "      <td>SUV</td>\n",
       "      <td>Medsize</td>\n",
       "    </tr>\n",
       "    <tr>\n",
       "      <th>4</th>\n",
       "      <td>HB64268</td>\n",
       "      <td>Washington</td>\n",
       "      <td>2813.692575</td>\n",
       "      <td>No</td>\n",
       "      <td>Basic</td>\n",
       "      <td>Bachelor</td>\n",
       "      <td>2/3/11</td>\n",
       "      <td>Employed</td>\n",
       "      <td>M</td>\n",
       "      <td>43836</td>\n",
       "      <td>...</td>\n",
       "      <td>44</td>\n",
       "      <td>0</td>\n",
       "      <td>1</td>\n",
       "      <td>Personal Auto</td>\n",
       "      <td>Personal L1</td>\n",
       "      <td>Offer1</td>\n",
       "      <td>Agent</td>\n",
       "      <td>138.130879</td>\n",
       "      <td>Four-Door Car</td>\n",
       "      <td>Medsize</td>\n",
       "    </tr>\n",
       "  </tbody>\n",
       "</table>\n",
       "<p>5 rows × 24 columns</p>\n",
       "</div>"
      ],
      "text/plain": [
       "  customer       state  customer_lifetime_value response  coverage education  \\\n",
       "0  BU79786  Washington              2763.519279       No     Basic  Bachelor   \n",
       "1  QZ44356     Arizona              6979.535903       No  Extended  Bachelor   \n",
       "2  AI49188      Nevada             12887.431650       No   Premium  Bachelor   \n",
       "3  WW63253  California              7645.861827       No     Basic  Bachelor   \n",
       "4  HB64268  Washington              2813.692575       No     Basic  Bachelor   \n",
       "\n",
       "  effective_to_date employmentstatus gender  income  ...  \\\n",
       "0           2/24/11         Employed      F   56274  ...   \n",
       "1           1/31/11       Unemployed      F       0  ...   \n",
       "2           2/19/11         Employed      F   48767  ...   \n",
       "3           1/20/11       Unemployed      M       0  ...   \n",
       "4            2/3/11         Employed      M   43836  ...   \n",
       "\n",
       "  months_since_policy_inception number_of_open_complaints  number_of_policies  \\\n",
       "0                             5                         0                   1   \n",
       "1                            42                         0                   8   \n",
       "2                            38                         0                   2   \n",
       "3                            65                         0                   7   \n",
       "4                            44                         0                   1   \n",
       "\n",
       "      policy_type        policy  renew_offer_type  sales_channel  \\\n",
       "0  Corporate Auto  Corporate L3            Offer1          Agent   \n",
       "1   Personal Auto   Personal L3            Offer3          Agent   \n",
       "2   Personal Auto   Personal L3            Offer1          Agent   \n",
       "3  Corporate Auto  Corporate L2            Offer1    Call Center   \n",
       "4   Personal Auto   Personal L1            Offer1          Agent   \n",
       "\n",
       "  total_claim_amount  vehicle_class vehicle_size  \n",
       "0         384.811147   Two-Door Car      Medsize  \n",
       "1        1131.464935  Four-Door Car      Medsize  \n",
       "2         566.472247   Two-Door Car      Medsize  \n",
       "3         529.881344            SUV      Medsize  \n",
       "4         138.130879  Four-Door Car      Medsize  \n",
       "\n",
       "[5 rows x 24 columns]"
      ]
     },
     "execution_count": 4,
     "metadata": {},
     "output_type": "execute_result"
    }
   ],
   "source": [
    "data.head()"
   ]
  },
  {
   "cell_type": "markdown",
   "id": "91866915",
   "metadata": {},
   "source": [
    "Find all of the categorical data. Save it in a categorical_df variable."
   ]
  },
  {
   "cell_type": "code",
   "execution_count": 5,
   "id": "49bb4202",
   "metadata": {},
   "outputs": [
    {
     "data": {
      "text/html": [
       "<div>\n",
       "<style scoped>\n",
       "    .dataframe tbody tr th:only-of-type {\n",
       "        vertical-align: middle;\n",
       "    }\n",
       "\n",
       "    .dataframe tbody tr th {\n",
       "        vertical-align: top;\n",
       "    }\n",
       "\n",
       "    .dataframe thead th {\n",
       "        text-align: right;\n",
       "    }\n",
       "</style>\n",
       "<table border=\"1\" class=\"dataframe\">\n",
       "  <thead>\n",
       "    <tr style=\"text-align: right;\">\n",
       "      <th></th>\n",
       "      <th>state</th>\n",
       "      <th>response</th>\n",
       "      <th>coverage</th>\n",
       "      <th>education</th>\n",
       "      <th>effective_to_date</th>\n",
       "      <th>employmentstatus</th>\n",
       "      <th>gender</th>\n",
       "      <th>location_code</th>\n",
       "      <th>marital_status</th>\n",
       "      <th>policy_type</th>\n",
       "      <th>policy</th>\n",
       "      <th>renew_offer_type</th>\n",
       "      <th>sales_channel</th>\n",
       "      <th>vehicle_class</th>\n",
       "      <th>vehicle_size</th>\n",
       "    </tr>\n",
       "  </thead>\n",
       "  <tbody>\n",
       "    <tr>\n",
       "      <th>0</th>\n",
       "      <td>Washington</td>\n",
       "      <td>No</td>\n",
       "      <td>Basic</td>\n",
       "      <td>Bachelor</td>\n",
       "      <td>2/24/11</td>\n",
       "      <td>Employed</td>\n",
       "      <td>F</td>\n",
       "      <td>Suburban</td>\n",
       "      <td>Married</td>\n",
       "      <td>Corporate Auto</td>\n",
       "      <td>Corporate L3</td>\n",
       "      <td>Offer1</td>\n",
       "      <td>Agent</td>\n",
       "      <td>Two-Door Car</td>\n",
       "      <td>Medsize</td>\n",
       "    </tr>\n",
       "    <tr>\n",
       "      <th>1</th>\n",
       "      <td>Arizona</td>\n",
       "      <td>No</td>\n",
       "      <td>Extended</td>\n",
       "      <td>Bachelor</td>\n",
       "      <td>1/31/11</td>\n",
       "      <td>Unemployed</td>\n",
       "      <td>F</td>\n",
       "      <td>Suburban</td>\n",
       "      <td>Single</td>\n",
       "      <td>Personal Auto</td>\n",
       "      <td>Personal L3</td>\n",
       "      <td>Offer3</td>\n",
       "      <td>Agent</td>\n",
       "      <td>Four-Door Car</td>\n",
       "      <td>Medsize</td>\n",
       "    </tr>\n",
       "    <tr>\n",
       "      <th>2</th>\n",
       "      <td>Nevada</td>\n",
       "      <td>No</td>\n",
       "      <td>Premium</td>\n",
       "      <td>Bachelor</td>\n",
       "      <td>2/19/11</td>\n",
       "      <td>Employed</td>\n",
       "      <td>F</td>\n",
       "      <td>Suburban</td>\n",
       "      <td>Married</td>\n",
       "      <td>Personal Auto</td>\n",
       "      <td>Personal L3</td>\n",
       "      <td>Offer1</td>\n",
       "      <td>Agent</td>\n",
       "      <td>Two-Door Car</td>\n",
       "      <td>Medsize</td>\n",
       "    </tr>\n",
       "    <tr>\n",
       "      <th>3</th>\n",
       "      <td>California</td>\n",
       "      <td>No</td>\n",
       "      <td>Basic</td>\n",
       "      <td>Bachelor</td>\n",
       "      <td>1/20/11</td>\n",
       "      <td>Unemployed</td>\n",
       "      <td>M</td>\n",
       "      <td>Suburban</td>\n",
       "      <td>Married</td>\n",
       "      <td>Corporate Auto</td>\n",
       "      <td>Corporate L2</td>\n",
       "      <td>Offer1</td>\n",
       "      <td>Call Center</td>\n",
       "      <td>SUV</td>\n",
       "      <td>Medsize</td>\n",
       "    </tr>\n",
       "    <tr>\n",
       "      <th>4</th>\n",
       "      <td>Washington</td>\n",
       "      <td>No</td>\n",
       "      <td>Basic</td>\n",
       "      <td>Bachelor</td>\n",
       "      <td>2/3/11</td>\n",
       "      <td>Employed</td>\n",
       "      <td>M</td>\n",
       "      <td>Rural</td>\n",
       "      <td>Single</td>\n",
       "      <td>Personal Auto</td>\n",
       "      <td>Personal L1</td>\n",
       "      <td>Offer1</td>\n",
       "      <td>Agent</td>\n",
       "      <td>Four-Door Car</td>\n",
       "      <td>Medsize</td>\n",
       "    </tr>\n",
       "  </tbody>\n",
       "</table>\n",
       "</div>"
      ],
      "text/plain": [
       "        state response  coverage education effective_to_date employmentstatus  \\\n",
       "0  Washington       No     Basic  Bachelor           2/24/11         Employed   \n",
       "1     Arizona       No  Extended  Bachelor           1/31/11       Unemployed   \n",
       "2      Nevada       No   Premium  Bachelor           2/19/11         Employed   \n",
       "3  California       No     Basic  Bachelor           1/20/11       Unemployed   \n",
       "4  Washington       No     Basic  Bachelor            2/3/11         Employed   \n",
       "\n",
       "  gender location_code marital_status     policy_type        policy  \\\n",
       "0      F      Suburban        Married  Corporate Auto  Corporate L3   \n",
       "1      F      Suburban         Single   Personal Auto   Personal L3   \n",
       "2      F      Suburban        Married   Personal Auto   Personal L3   \n",
       "3      M      Suburban        Married  Corporate Auto  Corporate L2   \n",
       "4      M         Rural         Single   Personal Auto   Personal L1   \n",
       "\n",
       "  renew_offer_type sales_channel  vehicle_class vehicle_size  \n",
       "0           Offer1         Agent   Two-Door Car      Medsize  \n",
       "1           Offer3         Agent  Four-Door Car      Medsize  \n",
       "2           Offer1         Agent   Two-Door Car      Medsize  \n",
       "3           Offer1   Call Center            SUV      Medsize  \n",
       "4           Offer1         Agent  Four-Door Car      Medsize  "
      ]
     },
     "execution_count": 5,
     "metadata": {},
     "output_type": "execute_result"
    }
   ],
   "source": [
    "categorical_df = data.select_dtypes(include =[object])\n",
    "categorical_df = categorical_df.drop(['customer'], axis=1)\n",
    "categorical_df.head()"
   ]
  },
  {
   "cell_type": "markdown",
   "id": "382b3e2d",
   "metadata": {},
   "source": [
    "Check for NaN values."
   ]
  },
  {
   "cell_type": "code",
   "execution_count": 6,
   "id": "d0cb68ff",
   "metadata": {},
   "outputs": [
    {
     "data": {
      "text/plain": [
       "state                0\n",
       "response             0\n",
       "coverage             0\n",
       "education            0\n",
       "effective_to_date    0\n",
       "employmentstatus     0\n",
       "gender               0\n",
       "location_code        0\n",
       "marital_status       0\n",
       "policy_type          0\n",
       "policy               0\n",
       "renew_offer_type     0\n",
       "sales_channel        0\n",
       "vehicle_class        0\n",
       "vehicle_size         0\n",
       "dtype: int64"
      ]
     },
     "execution_count": 6,
     "metadata": {},
     "output_type": "execute_result"
    }
   ],
   "source": [
    "categorical_df.isna().sum()"
   ]
  },
  {
   "cell_type": "markdown",
   "id": "59f19f9c",
   "metadata": {},
   "source": [
    "Check all unique values of columns."
   ]
  },
  {
   "cell_type": "code",
   "execution_count": 7,
   "id": "38f33743",
   "metadata": {},
   "outputs": [
    {
     "data": {
      "text/plain": [
       "state                [Washington, Arizona, Nevada, California, Oregon]\n",
       "response                                                     [No, Yes]\n",
       "coverage                                    [Basic, Extended, Premium]\n",
       "education            [Bachelor, College, Master, High School or Bel...\n",
       "effective_to_date    [2/24/11, 1/31/11, 2/19/11, 1/20/11, 2/3/11, 1...\n",
       "employmentstatus     [Employed, Unemployed, Medical Leave, Disabled...\n",
       "gender                                                          [F, M]\n",
       "location_code                                 [Suburban, Rural, Urban]\n",
       "marital_status                             [Married, Single, Divorced]\n",
       "policy_type              [Corporate Auto, Personal Auto, Special Auto]\n",
       "policy               [Corporate L3, Personal L3, Corporate L2, Pers...\n",
       "renew_offer_type                      [Offer1, Offer3, Offer2, Offer4]\n",
       "sales_channel                        [Agent, Call Center, Web, Branch]\n",
       "vehicle_class        [Two-Door Car, Four-Door Car, SUV, Luxury SUV,...\n",
       "vehicle_size                                   [Medsize, Small, Large]\n",
       "dtype: object"
      ]
     },
     "execution_count": 7,
     "metadata": {},
     "output_type": "execute_result"
    }
   ],
   "source": [
    "categorical_df.apply(pd.Series.unique)"
   ]
  },
  {
   "cell_type": "code",
   "execution_count": 8,
   "id": "49df0f73",
   "metadata": {},
   "outputs": [
    {
     "data": {
      "text/plain": [
       "California    3150\n",
       "Oregon        2601\n",
       "Arizona       1703\n",
       "Nevada         882\n",
       "Washington     798\n",
       "Name: state, dtype: int64"
      ]
     },
     "metadata": {},
     "output_type": "display_data"
    },
    {
     "data": {
      "text/plain": [
       "Employed         5698\n",
       "Unemployed       2317\n",
       "Medical Leave     432\n",
       "Disabled          405\n",
       "Retired           282\n",
       "Name: employmentstatus, dtype: int64"
      ]
     },
     "metadata": {},
     "output_type": "display_data"
    },
    {
     "data": {
      "text/plain": [
       "Four-Door Car    4621\n",
       "Two-Door Car     1886\n",
       "SUV              1796\n",
       "Sports Car        484\n",
       "Luxury SUV        184\n",
       "Luxury Car        163\n",
       "Name: vehicle_class, dtype: int64"
      ]
     },
     "metadata": {},
     "output_type": "display_data"
    },
    {
     "data": {
      "text/plain": [
       "Medsize    6424\n",
       "Small      1764\n",
       "Large       946\n",
       "Name: vehicle_size, dtype: int64"
      ]
     },
     "metadata": {},
     "output_type": "display_data"
    }
   ],
   "source": [
    "display(categorical_df['state'].value_counts(dropna=False))\n",
    "display(categorical_df['employmentstatus'].value_counts(dropna=False))\n",
    "display(categorical_df['vehicle_class'].value_counts(dropna=False))\n",
    "display(categorical_df['vehicle_size'].value_counts(dropna=False)) "
   ]
  },
  {
   "cell_type": "markdown",
   "id": "47f611c2",
   "metadata": {},
   "source": [
    "Check dtypes. Do they all make sense as categorical data?"
   ]
  },
  {
   "cell_type": "code",
   "execution_count": 9,
   "id": "d55ae0f5",
   "metadata": {},
   "outputs": [
    {
     "data": {
      "text/plain": [
       "state                object\n",
       "response             object\n",
       "coverage             object\n",
       "education            object\n",
       "effective_to_date    object\n",
       "employmentstatus     object\n",
       "gender               object\n",
       "location_code        object\n",
       "marital_status       object\n",
       "policy_type          object\n",
       "policy               object\n",
       "renew_offer_type     object\n",
       "sales_channel        object\n",
       "vehicle_class        object\n",
       "vehicle_size         object\n",
       "dtype: object"
      ]
     },
     "execution_count": 9,
     "metadata": {},
     "output_type": "execute_result"
    }
   ],
   "source": [
    "categorical_df.dtypes"
   ]
  },
  {
   "cell_type": "code",
   "execution_count": 10,
   "id": "8b406aa8",
   "metadata": {},
   "outputs": [],
   "source": [
    "categorical_df['effective_to_date'] = pd.to_datetime(categorical_df['effective_to_date'], errors='coerce')"
   ]
  },
  {
   "cell_type": "code",
   "execution_count": 11,
   "id": "be49c555",
   "metadata": {},
   "outputs": [
    {
     "data": {
      "text/plain": [
       "state                        object\n",
       "response                     object\n",
       "coverage                     object\n",
       "education                    object\n",
       "effective_to_date    datetime64[ns]\n",
       "employmentstatus             object\n",
       "gender                       object\n",
       "location_code                object\n",
       "marital_status               object\n",
       "policy_type                  object\n",
       "policy                       object\n",
       "renew_offer_type             object\n",
       "sales_channel                object\n",
       "vehicle_class                object\n",
       "vehicle_size                 object\n",
       "dtype: object"
      ]
     },
     "execution_count": 11,
     "metadata": {},
     "output_type": "execute_result"
    }
   ],
   "source": [
    "categorical_df.dtypes"
   ]
  },
  {
   "cell_type": "markdown",
   "id": "4e347ff8",
   "metadata": {},
   "source": [
    "Does any column contain alpha and numeric data? Decide how to clean it.\n",
    "#Renew Offer Type could be just  numeric in this case.\t"
   ]
  },
  {
   "cell_type": "code",
   "execution_count": 12,
   "id": "8c5afc52",
   "metadata": {},
   "outputs": [
    {
     "data": {
      "text/plain": [
       "Agent          3477\n",
       "Branch         2567\n",
       "Call Center    1765\n",
       "Web            1325\n",
       "Name: sales_channel, dtype: int64"
      ]
     },
     "metadata": {},
     "output_type": "display_data"
    }
   ],
   "source": [
    "display(categorical_df['sales_channel'].value_counts(dropna=False)) #Could simply be considered as so for encoding later."
   ]
  },
  {
   "cell_type": "code",
   "execution_count": 13,
   "id": "928c5c38",
   "metadata": {},
   "outputs": [
    {
     "data": {
      "text/plain": [
       "Offer1    3752\n",
       "Offer2    2926\n",
       "Offer3    1432\n",
       "Offer4    1024\n",
       "Name: renew_offer_type, dtype: int64"
      ]
     },
     "metadata": {},
     "output_type": "display_data"
    }
   ],
   "source": [
    "display(categorical_df['renew_offer_type'].value_counts(dropna=False)) #Could simply be shown as numbers"
   ]
  },
  {
   "cell_type": "code",
   "execution_count": 14,
   "id": "e944fdcf",
   "metadata": {},
   "outputs": [],
   "source": [
    "def cleanoperation(x):\n",
    "    \n",
    "    if  (x == \"Offer1\"):\n",
    "        return \"1\"\n",
    "    elif (x == \"Offer2\"):\n",
    "        return \"2\"\n",
    "    elif (x == \"Offer3\"):\n",
    "        return \"3\"\n",
    "    else:\n",
    "        return '4'"
   ]
  },
  {
   "cell_type": "code",
   "execution_count": 15,
   "id": "c4064477",
   "metadata": {},
   "outputs": [],
   "source": [
    "categorical_df['renew_offer_type'] = categorical_df['renew_offer_type'].apply(cleanoperation)"
   ]
  },
  {
   "cell_type": "code",
   "execution_count": 16,
   "id": "88edde24",
   "metadata": {},
   "outputs": [
    {
     "data": {
      "text/plain": [
       "0       1\n",
       "1       3\n",
       "2       1\n",
       "3       1\n",
       "4       1\n",
       "       ..\n",
       "9129    2\n",
       "9130    1\n",
       "9131    1\n",
       "9132    3\n",
       "9133    4\n",
       "Name: renew_offer_type, Length: 9134, dtype: object"
      ]
     },
     "execution_count": 16,
     "metadata": {},
     "output_type": "execute_result"
    }
   ],
   "source": [
    "categorical_df['renew_offer_type']"
   ]
  },
  {
   "cell_type": "code",
   "execution_count": null,
   "id": "99a93a27",
   "metadata": {},
   "outputs": [],
   "source": []
  },
  {
   "cell_type": "markdown",
   "id": "c73cad01",
   "metadata": {},
   "source": [
    "Would you choose to do anything else to clean or wrangle the categorical data? Comment your decisions."
   ]
  },
  {
   "cell_type": "code",
   "execution_count": 17,
   "id": "f5c7360d",
   "metadata": {},
   "outputs": [
    {
     "data": {
      "text/plain": [
       "Employed         5698\n",
       "Unemployed       2317\n",
       "Medical Leave     432\n",
       "Disabled          405\n",
       "Retired           282\n",
       "Name: employmentstatus, dtype: int64"
      ]
     },
     "metadata": {},
     "output_type": "display_data"
    }
   ],
   "source": [
    "display(categorical_df['employmentstatus'].value_counts(dropna=False))"
   ]
  },
  {
   "cell_type": "code",
   "execution_count": 18,
   "id": "ef5fb3d0",
   "metadata": {},
   "outputs": [],
   "source": [
    "def cleanOperation(x):\n",
    "    \n",
    "    if  (x == \"Medical Leave\"):\n",
    "        return \"Employed\"\n",
    "    elif (x == \"Disabled\"):\n",
    "        return \"Unemployed\"\n",
    "    else:\n",
    "        return \"Retired\"\n",
    "\n",
    "# Those who are retired are probably no longer working, although they may choose to do so, but earn a retirement.  \n",
    "# Disability shouldn't, of course, be a synonym of unemployment, but this answer instead of \"Employed\" may be an indication.\n",
    "# Those in Medical Leave are, indeed, employed, or wouldn't fit this label."
   ]
  },
  {
   "cell_type": "code",
   "execution_count": 19,
   "id": "cb880c96",
   "metadata": {},
   "outputs": [],
   "source": [
    "#categorical_df['employmentstatus'] = categorical_df['employmentstatus'].apply(cleanOperation)\n",
    "categorical_df['employmentstatus'] = list(map(cleanOperation, categorical_df['employmentstatus']))"
   ]
  },
  {
   "cell_type": "code",
   "execution_count": 20,
   "id": "c622d034",
   "metadata": {},
   "outputs": [
    {
     "data": {
      "text/plain": [
       "Bachelor                2748\n",
       "College                 2681\n",
       "High School or Below    2622\n",
       "Master                   741\n",
       "Doctor                   342\n",
       "Name: education, dtype: int64"
      ]
     },
     "metadata": {},
     "output_type": "display_data"
    }
   ],
   "source": [
    "display(categorical_df['education'].value_counts(dropna=False))"
   ]
  },
  {
   "cell_type": "code",
   "execution_count": 21,
   "id": "280d4970",
   "metadata": {},
   "outputs": [],
   "source": [
    "categorical_df['education'] = np.where(categorical_df['education'].isin(['Master','Doctor']) , 'Postgraduate', categorical_df['education'])\n",
    "categorical_df['education'] = np.where(categorical_df['education'].isin(['College','Bachelor']) , 'Undergraduate', categorical_df['education'])"
   ]
  },
  {
   "cell_type": "markdown",
   "id": "1a5f6a93",
   "metadata": {},
   "source": [
    "Compare policy_type and policy. What information is contained in these columns. Can you identify what is important?"
   ]
  },
  {
   "cell_type": "code",
   "execution_count": 22,
   "id": "45efa4df",
   "metadata": {},
   "outputs": [
    {
     "data": {
      "text/html": [
       "<div>\n",
       "<style scoped>\n",
       "    .dataframe tbody tr th:only-of-type {\n",
       "        vertical-align: middle;\n",
       "    }\n",
       "\n",
       "    .dataframe tbody tr th {\n",
       "        vertical-align: top;\n",
       "    }\n",
       "\n",
       "    .dataframe thead th {\n",
       "        text-align: right;\n",
       "    }\n",
       "</style>\n",
       "<table border=\"1\" class=\"dataframe\">\n",
       "  <thead>\n",
       "    <tr style=\"text-align: right;\">\n",
       "      <th></th>\n",
       "      <th>state</th>\n",
       "      <th>response</th>\n",
       "      <th>coverage</th>\n",
       "      <th>education</th>\n",
       "      <th>effective_to_date</th>\n",
       "      <th>employmentstatus</th>\n",
       "      <th>gender</th>\n",
       "      <th>location_code</th>\n",
       "      <th>marital_status</th>\n",
       "      <th>policy_type</th>\n",
       "      <th>policy</th>\n",
       "      <th>renew_offer_type</th>\n",
       "      <th>sales_channel</th>\n",
       "      <th>vehicle_class</th>\n",
       "      <th>vehicle_size</th>\n",
       "    </tr>\n",
       "  </thead>\n",
       "  <tbody>\n",
       "    <tr>\n",
       "      <th>0</th>\n",
       "      <td>Washington</td>\n",
       "      <td>No</td>\n",
       "      <td>Basic</td>\n",
       "      <td>Undergraduate</td>\n",
       "      <td>2011-02-24</td>\n",
       "      <td>Retired</td>\n",
       "      <td>F</td>\n",
       "      <td>Suburban</td>\n",
       "      <td>Married</td>\n",
       "      <td>Corporate Auto</td>\n",
       "      <td>Corporate L3</td>\n",
       "      <td>1</td>\n",
       "      <td>Agent</td>\n",
       "      <td>Two-Door Car</td>\n",
       "      <td>Medsize</td>\n",
       "    </tr>\n",
       "    <tr>\n",
       "      <th>1</th>\n",
       "      <td>Arizona</td>\n",
       "      <td>No</td>\n",
       "      <td>Extended</td>\n",
       "      <td>Undergraduate</td>\n",
       "      <td>2011-01-31</td>\n",
       "      <td>Retired</td>\n",
       "      <td>F</td>\n",
       "      <td>Suburban</td>\n",
       "      <td>Single</td>\n",
       "      <td>Personal Auto</td>\n",
       "      <td>Personal L3</td>\n",
       "      <td>3</td>\n",
       "      <td>Agent</td>\n",
       "      <td>Four-Door Car</td>\n",
       "      <td>Medsize</td>\n",
       "    </tr>\n",
       "    <tr>\n",
       "      <th>2</th>\n",
       "      <td>Nevada</td>\n",
       "      <td>No</td>\n",
       "      <td>Premium</td>\n",
       "      <td>Undergraduate</td>\n",
       "      <td>2011-02-19</td>\n",
       "      <td>Retired</td>\n",
       "      <td>F</td>\n",
       "      <td>Suburban</td>\n",
       "      <td>Married</td>\n",
       "      <td>Personal Auto</td>\n",
       "      <td>Personal L3</td>\n",
       "      <td>1</td>\n",
       "      <td>Agent</td>\n",
       "      <td>Two-Door Car</td>\n",
       "      <td>Medsize</td>\n",
       "    </tr>\n",
       "    <tr>\n",
       "      <th>3</th>\n",
       "      <td>California</td>\n",
       "      <td>No</td>\n",
       "      <td>Basic</td>\n",
       "      <td>Undergraduate</td>\n",
       "      <td>2011-01-20</td>\n",
       "      <td>Retired</td>\n",
       "      <td>M</td>\n",
       "      <td>Suburban</td>\n",
       "      <td>Married</td>\n",
       "      <td>Corporate Auto</td>\n",
       "      <td>Corporate L2</td>\n",
       "      <td>1</td>\n",
       "      <td>Call Center</td>\n",
       "      <td>SUV</td>\n",
       "      <td>Medsize</td>\n",
       "    </tr>\n",
       "    <tr>\n",
       "      <th>4</th>\n",
       "      <td>Washington</td>\n",
       "      <td>No</td>\n",
       "      <td>Basic</td>\n",
       "      <td>Undergraduate</td>\n",
       "      <td>2011-02-03</td>\n",
       "      <td>Retired</td>\n",
       "      <td>M</td>\n",
       "      <td>Rural</td>\n",
       "      <td>Single</td>\n",
       "      <td>Personal Auto</td>\n",
       "      <td>Personal L1</td>\n",
       "      <td>1</td>\n",
       "      <td>Agent</td>\n",
       "      <td>Four-Door Car</td>\n",
       "      <td>Medsize</td>\n",
       "    </tr>\n",
       "  </tbody>\n",
       "</table>\n",
       "</div>"
      ],
      "text/plain": [
       "        state response  coverage      education effective_to_date  \\\n",
       "0  Washington       No     Basic  Undergraduate        2011-02-24   \n",
       "1     Arizona       No  Extended  Undergraduate        2011-01-31   \n",
       "2      Nevada       No   Premium  Undergraduate        2011-02-19   \n",
       "3  California       No     Basic  Undergraduate        2011-01-20   \n",
       "4  Washington       No     Basic  Undergraduate        2011-02-03   \n",
       "\n",
       "  employmentstatus gender location_code marital_status     policy_type  \\\n",
       "0          Retired      F      Suburban        Married  Corporate Auto   \n",
       "1          Retired      F      Suburban         Single   Personal Auto   \n",
       "2          Retired      F      Suburban        Married   Personal Auto   \n",
       "3          Retired      M      Suburban        Married  Corporate Auto   \n",
       "4          Retired      M         Rural         Single   Personal Auto   \n",
       "\n",
       "         policy renew_offer_type sales_channel  vehicle_class vehicle_size  \n",
       "0  Corporate L3                1         Agent   Two-Door Car      Medsize  \n",
       "1   Personal L3                3         Agent  Four-Door Car      Medsize  \n",
       "2   Personal L3                1         Agent   Two-Door Car      Medsize  \n",
       "3  Corporate L2                1   Call Center            SUV      Medsize  \n",
       "4   Personal L1                1         Agent  Four-Door Car      Medsize  "
      ]
     },
     "execution_count": 22,
     "metadata": {},
     "output_type": "execute_result"
    }
   ],
   "source": [
    "categorical_df.head()"
   ]
  },
  {
   "cell_type": "code",
   "execution_count": 23,
   "id": "604d476f",
   "metadata": {},
   "outputs": [
    {
     "data": {
      "text/plain": [
       "Personal L3     3426\n",
       "Personal L2     2122\n",
       "Personal L1     1240\n",
       "Corporate L3    1014\n",
       "Corporate L2     595\n",
       "Corporate L1     359\n",
       "Special L2       164\n",
       "Special L3       148\n",
       "Special L1        66\n",
       "Name: policy, dtype: int64"
      ]
     },
     "metadata": {},
     "output_type": "display_data"
    },
    {
     "data": {
      "text/plain": [
       "Personal Auto     6788\n",
       "Corporate Auto    1968\n",
       "Special Auto       378\n",
       "Name: policy_type, dtype: int64"
      ]
     },
     "metadata": {},
     "output_type": "display_data"
    }
   ],
   "source": [
    "display(categorical_df['policy'].value_counts(dropna=False)) \n",
    "display(categorical_df['policy_type'].value_counts(dropna=False))\n",
    "# Just a name for policy_type. L1, L2 and L3 for each category sum up to the different categories in policy_type. \n",
    "#Can be dropped, for policy doesn't add any new info, it's best to have it categorized in three types.\n",
    "#categorical_df = categorical_df.drop(['policy'], axis=1)\n",
    "#For now, I'll be just leaving policy with numbers and policy_type with the type."
   ]
  },
  {
   "cell_type": "code",
   "execution_count": 24,
   "id": "2dd4984d",
   "metadata": {},
   "outputs": [],
   "source": [
    "def cleanOperation2(x):\n",
    "    \n",
    "    if  (x == 'Personal L3') | (x == 'Corporate L3') | (x == 'Special L3'):\n",
    "        return \"3\"\n",
    "    elif (x == 'Personal L2') | (x == 'Corporate L2') | (x == 'Special L2'):\n",
    "        return \"2\"\n",
    "    else:\n",
    "        return \"1\""
   ]
  },
  {
   "cell_type": "code",
   "execution_count": 25,
   "id": "693db843",
   "metadata": {},
   "outputs": [],
   "source": [
    "categorical_df['policy'] = categorical_df['policy'].apply(cleanOperation2)"
   ]
  },
  {
   "cell_type": "code",
   "execution_count": 26,
   "id": "d49b44c9",
   "metadata": {},
   "outputs": [
    {
     "data": {
      "text/plain": [
       "0       3\n",
       "1       3\n",
       "2       3\n",
       "3       2\n",
       "4       1\n",
       "       ..\n",
       "9129    1\n",
       "9130    3\n",
       "9131    2\n",
       "9132    2\n",
       "9133    3\n",
       "Name: policy, Length: 9134, dtype: object"
      ]
     },
     "execution_count": 26,
     "metadata": {},
     "output_type": "execute_result"
    }
   ],
   "source": [
    "categorical_df['policy']"
   ]
  },
  {
   "cell_type": "markdown",
   "id": "7e1758a6",
   "metadata": {},
   "source": [
    "Check number of unique values in each column, can they be combined in any way to ease encoding? Comment your thoughts and make those changes."
   ]
  },
  {
   "cell_type": "code",
   "execution_count": 27,
   "id": "0c1fb0b0",
   "metadata": {},
   "outputs": [],
   "source": [
    "categorical_df['vehicle_class'] = np.where(categorical_df['vehicle_class'].isin(['Luxury SUV', 'Luxury Car']) , 'Luxury', categorical_df['vehicle_class'])\n",
    "#Luxury SUV and Luxury Cars are both luxury cars.\n",
    "categorical_df['vehicle_class'] = np.where(categorical_df['vehicle_class'].isin(['Sports Car']) , 'SUV', categorical_df['vehicle_class'])\n",
    "#SUVs are also Sports Cars, although they may differ in size."
   ]
  },
  {
   "cell_type": "code",
   "execution_count": 28,
   "id": "fa2d9053",
   "metadata": {},
   "outputs": [
    {
     "data": {
      "text/plain": [
       "Four-Door Car    4621\n",
       "SUV              2280\n",
       "Two-Door Car     1886\n",
       "Luxury            347\n",
       "Name: vehicle_class, dtype: int64"
      ]
     },
     "metadata": {},
     "output_type": "display_data"
    }
   ],
   "source": [
    "display(categorical_df['vehicle_class'].value_counts(dropna=False))"
   ]
  },
  {
   "cell_type": "code",
   "execution_count": 29,
   "id": "3961ba57",
   "metadata": {
    "scrolled": true
   },
   "outputs": [
    {
     "data": {
      "text/plain": [
       "state                 5\n",
       "response              2\n",
       "coverage              3\n",
       "education             3\n",
       "effective_to_date    59\n",
       "employmentstatus      3\n",
       "gender                2\n",
       "location_code         3\n",
       "marital_status        3\n",
       "policy_type           3\n",
       "policy                3\n",
       "renew_offer_type      4\n",
       "sales_channel         4\n",
       "vehicle_class         4\n",
       "vehicle_size          3\n",
       "dtype: int64"
      ]
     },
     "execution_count": 29,
     "metadata": {},
     "output_type": "execute_result"
    }
   ],
   "source": [
    "categorical_df.nunique()"
   ]
  },
  {
   "cell_type": "code",
   "execution_count": null,
   "id": "778a56f9",
   "metadata": {},
   "outputs": [],
   "source": []
  },
  {
   "cell_type": "markdown",
   "id": "6a117127",
   "metadata": {},
   "source": [
    "# Lab 4.03 "
   ]
  },
  {
   "cell_type": "markdown",
   "id": "20f93efa",
   "metadata": {},
   "source": [
    "Instructions\n",
    "Open the categoricals variable we created before."
   ]
  },
  {
   "cell_type": "code",
   "execution_count": 30,
   "id": "a195aeab",
   "metadata": {},
   "outputs": [
    {
     "name": "stderr",
     "output_type": "stream",
     "text": [
      "C:\\Users\\franc\\AppData\\Local\\Temp/ipykernel_9948/1940378060.py:1: DeprecationWarning: `np.object` is a deprecated alias for the builtin `object`. To silence this warning, use `object` by itself. Doing this will not modify any behavior and is safe. \n",
      "Deprecated in NumPy 1.20; for more details and guidance: https://numpy.org/devdocs/release/1.20.0-notes.html#deprecations\n",
      "  categoricals = data.select_dtypes(np.object)\n"
     ]
    },
    {
     "data": {
      "text/html": [
       "<div>\n",
       "<style scoped>\n",
       "    .dataframe tbody tr th:only-of-type {\n",
       "        vertical-align: middle;\n",
       "    }\n",
       "\n",
       "    .dataframe tbody tr th {\n",
       "        vertical-align: top;\n",
       "    }\n",
       "\n",
       "    .dataframe thead th {\n",
       "        text-align: right;\n",
       "    }\n",
       "</style>\n",
       "<table border=\"1\" class=\"dataframe\">\n",
       "  <thead>\n",
       "    <tr style=\"text-align: right;\">\n",
       "      <th></th>\n",
       "      <th>customer</th>\n",
       "      <th>state</th>\n",
       "      <th>response</th>\n",
       "      <th>coverage</th>\n",
       "      <th>education</th>\n",
       "      <th>effective_to_date</th>\n",
       "      <th>employmentstatus</th>\n",
       "      <th>gender</th>\n",
       "      <th>location_code</th>\n",
       "      <th>marital_status</th>\n",
       "      <th>policy_type</th>\n",
       "      <th>policy</th>\n",
       "      <th>renew_offer_type</th>\n",
       "      <th>sales_channel</th>\n",
       "      <th>vehicle_class</th>\n",
       "      <th>vehicle_size</th>\n",
       "    </tr>\n",
       "  </thead>\n",
       "  <tbody>\n",
       "    <tr>\n",
       "      <th>0</th>\n",
       "      <td>BU79786</td>\n",
       "      <td>Washington</td>\n",
       "      <td>No</td>\n",
       "      <td>Basic</td>\n",
       "      <td>Bachelor</td>\n",
       "      <td>2/24/11</td>\n",
       "      <td>Employed</td>\n",
       "      <td>F</td>\n",
       "      <td>Suburban</td>\n",
       "      <td>Married</td>\n",
       "      <td>Corporate Auto</td>\n",
       "      <td>Corporate L3</td>\n",
       "      <td>Offer1</td>\n",
       "      <td>Agent</td>\n",
       "      <td>Two-Door Car</td>\n",
       "      <td>Medsize</td>\n",
       "    </tr>\n",
       "    <tr>\n",
       "      <th>1</th>\n",
       "      <td>QZ44356</td>\n",
       "      <td>Arizona</td>\n",
       "      <td>No</td>\n",
       "      <td>Extended</td>\n",
       "      <td>Bachelor</td>\n",
       "      <td>1/31/11</td>\n",
       "      <td>Unemployed</td>\n",
       "      <td>F</td>\n",
       "      <td>Suburban</td>\n",
       "      <td>Single</td>\n",
       "      <td>Personal Auto</td>\n",
       "      <td>Personal L3</td>\n",
       "      <td>Offer3</td>\n",
       "      <td>Agent</td>\n",
       "      <td>Four-Door Car</td>\n",
       "      <td>Medsize</td>\n",
       "    </tr>\n",
       "    <tr>\n",
       "      <th>2</th>\n",
       "      <td>AI49188</td>\n",
       "      <td>Nevada</td>\n",
       "      <td>No</td>\n",
       "      <td>Premium</td>\n",
       "      <td>Bachelor</td>\n",
       "      <td>2/19/11</td>\n",
       "      <td>Employed</td>\n",
       "      <td>F</td>\n",
       "      <td>Suburban</td>\n",
       "      <td>Married</td>\n",
       "      <td>Personal Auto</td>\n",
       "      <td>Personal L3</td>\n",
       "      <td>Offer1</td>\n",
       "      <td>Agent</td>\n",
       "      <td>Two-Door Car</td>\n",
       "      <td>Medsize</td>\n",
       "    </tr>\n",
       "    <tr>\n",
       "      <th>3</th>\n",
       "      <td>WW63253</td>\n",
       "      <td>California</td>\n",
       "      <td>No</td>\n",
       "      <td>Basic</td>\n",
       "      <td>Bachelor</td>\n",
       "      <td>1/20/11</td>\n",
       "      <td>Unemployed</td>\n",
       "      <td>M</td>\n",
       "      <td>Suburban</td>\n",
       "      <td>Married</td>\n",
       "      <td>Corporate Auto</td>\n",
       "      <td>Corporate L2</td>\n",
       "      <td>Offer1</td>\n",
       "      <td>Call Center</td>\n",
       "      <td>SUV</td>\n",
       "      <td>Medsize</td>\n",
       "    </tr>\n",
       "    <tr>\n",
       "      <th>4</th>\n",
       "      <td>HB64268</td>\n",
       "      <td>Washington</td>\n",
       "      <td>No</td>\n",
       "      <td>Basic</td>\n",
       "      <td>Bachelor</td>\n",
       "      <td>2/3/11</td>\n",
       "      <td>Employed</td>\n",
       "      <td>M</td>\n",
       "      <td>Rural</td>\n",
       "      <td>Single</td>\n",
       "      <td>Personal Auto</td>\n",
       "      <td>Personal L1</td>\n",
       "      <td>Offer1</td>\n",
       "      <td>Agent</td>\n",
       "      <td>Four-Door Car</td>\n",
       "      <td>Medsize</td>\n",
       "    </tr>\n",
       "  </tbody>\n",
       "</table>\n",
       "</div>"
      ],
      "text/plain": [
       "  customer       state response  coverage education effective_to_date  \\\n",
       "0  BU79786  Washington       No     Basic  Bachelor           2/24/11   \n",
       "1  QZ44356     Arizona       No  Extended  Bachelor           1/31/11   \n",
       "2  AI49188      Nevada       No   Premium  Bachelor           2/19/11   \n",
       "3  WW63253  California       No     Basic  Bachelor           1/20/11   \n",
       "4  HB64268  Washington       No     Basic  Bachelor            2/3/11   \n",
       "\n",
       "  employmentstatus gender location_code marital_status     policy_type  \\\n",
       "0         Employed      F      Suburban        Married  Corporate Auto   \n",
       "1       Unemployed      F      Suburban         Single   Personal Auto   \n",
       "2         Employed      F      Suburban        Married   Personal Auto   \n",
       "3       Unemployed      M      Suburban        Married  Corporate Auto   \n",
       "4         Employed      M         Rural         Single   Personal Auto   \n",
       "\n",
       "         policy renew_offer_type sales_channel  vehicle_class vehicle_size  \n",
       "0  Corporate L3           Offer1         Agent   Two-Door Car      Medsize  \n",
       "1   Personal L3           Offer3         Agent  Four-Door Car      Medsize  \n",
       "2   Personal L3           Offer1         Agent   Two-Door Car      Medsize  \n",
       "3  Corporate L2           Offer1   Call Center            SUV      Medsize  \n",
       "4   Personal L1           Offer1         Agent  Four-Door Car      Medsize  "
      ]
     },
     "execution_count": 30,
     "metadata": {},
     "output_type": "execute_result"
    }
   ],
   "source": [
    "categoricals = data.select_dtypes(np.object)\n",
    "categoricals.head()"
   ]
  },
  {
   "cell_type": "markdown",
   "id": "d8189907",
   "metadata": {},
   "source": [
    "Plot all the categorical variables with the proper plot. What can you see?"
   ]
  },
  {
   "cell_type": "markdown",
   "id": "b709ba1c",
   "metadata": {},
   "source": [
    "for column in categorical_df.columns:\n",
    "    sns.barplot(x=column, y=data['total_claim_amount'], data=categorical_df)\n",
    "    plt.show()"
   ]
  },
  {
   "cell_type": "markdown",
   "id": "ac434717",
   "metadata": {},
   "source": [
    "for column in categoricals.columns:\n",
    "    sns.barplot(x=column, y=data['total_claim_amount'], data=categoricals)\n",
    "    plt.show()"
   ]
  },
  {
   "cell_type": "markdown",
   "id": "a603e007",
   "metadata": {},
   "source": [
    "There might be some columns that seem to be redundant, check their values to be sure. What should we do with them?\n",
    "#For the original data, policy and policy type look redundant."
   ]
  },
  {
   "cell_type": "code",
   "execution_count": 31,
   "id": "e2426921",
   "metadata": {},
   "outputs": [
    {
     "data": {
      "text/html": [
       "<div>\n",
       "<style scoped>\n",
       "    .dataframe tbody tr th:only-of-type {\n",
       "        vertical-align: middle;\n",
       "    }\n",
       "\n",
       "    .dataframe tbody tr th {\n",
       "        vertical-align: top;\n",
       "    }\n",
       "\n",
       "    .dataframe thead th {\n",
       "        text-align: right;\n",
       "    }\n",
       "</style>\n",
       "<table border=\"1\" class=\"dataframe\">\n",
       "  <thead>\n",
       "    <tr style=\"text-align: right;\">\n",
       "      <th>vehicle_class</th>\n",
       "      <th>Four-Door Car</th>\n",
       "      <th>Luxury</th>\n",
       "      <th>SUV</th>\n",
       "      <th>Two-Door Car</th>\n",
       "    </tr>\n",
       "    <tr>\n",
       "      <th>vehicle_size</th>\n",
       "      <th></th>\n",
       "      <th></th>\n",
       "      <th></th>\n",
       "      <th></th>\n",
       "    </tr>\n",
       "  </thead>\n",
       "  <tbody>\n",
       "    <tr>\n",
       "      <th>Large</th>\n",
       "      <td>475</td>\n",
       "      <td>34</td>\n",
       "      <td>216</td>\n",
       "      <td>221</td>\n",
       "    </tr>\n",
       "    <tr>\n",
       "      <th>Medsize</th>\n",
       "      <td>3237</td>\n",
       "      <td>231</td>\n",
       "      <td>1674</td>\n",
       "      <td>1282</td>\n",
       "    </tr>\n",
       "    <tr>\n",
       "      <th>Small</th>\n",
       "      <td>909</td>\n",
       "      <td>82</td>\n",
       "      <td>390</td>\n",
       "      <td>383</td>\n",
       "    </tr>\n",
       "  </tbody>\n",
       "</table>\n",
       "</div>"
      ],
      "text/plain": [
       "vehicle_class  Four-Door Car  Luxury   SUV  Two-Door Car\n",
       "vehicle_size                                            \n",
       "Large                    475      34   216           221\n",
       "Medsize                 3237     231  1674          1282\n",
       "Small                    909      82   390           383"
      ]
     },
     "execution_count": 31,
     "metadata": {},
     "output_type": "execute_result"
    }
   ],
   "source": [
    "data_crosstab = pd.crosstab(categorical_df['vehicle_size'], categorical_df['vehicle_class'], margins = False)\n",
    "data_crosstab"
   ]
  },
  {
   "cell_type": "code",
   "execution_count": 32,
   "id": "35a20887",
   "metadata": {},
   "outputs": [
    {
     "name": "stdout",
     "output_type": "stream",
     "text": [
      "p-value: 0.0018858517841835653\n"
     ]
    }
   ],
   "source": [
    "import scipy.stats as st\n",
    "print('p-value:', st.chi2_contingency(data_crosstab)[1])"
   ]
  },
  {
   "cell_type": "code",
   "execution_count": 33,
   "id": "7bd9fae7",
   "metadata": {},
   "outputs": [],
   "source": [
    "#There is evidence that vehicle_class and vehicle_size are not independent variables."
   ]
  },
  {
   "cell_type": "code",
   "execution_count": 34,
   "id": "f0f2e9f3",
   "metadata": {},
   "outputs": [
    {
     "data": {
      "text/html": [
       "<div>\n",
       "<style scoped>\n",
       "    .dataframe tbody tr th:only-of-type {\n",
       "        vertical-align: middle;\n",
       "    }\n",
       "\n",
       "    .dataframe tbody tr th {\n",
       "        vertical-align: top;\n",
       "    }\n",
       "\n",
       "    .dataframe thead th {\n",
       "        text-align: right;\n",
       "    }\n",
       "</style>\n",
       "<table border=\"1\" class=\"dataframe\">\n",
       "  <thead>\n",
       "    <tr style=\"text-align: right;\">\n",
       "      <th>policy_type</th>\n",
       "      <th>Corporate Auto</th>\n",
       "      <th>Personal Auto</th>\n",
       "      <th>Special Auto</th>\n",
       "    </tr>\n",
       "    <tr>\n",
       "      <th>policy</th>\n",
       "      <th></th>\n",
       "      <th></th>\n",
       "      <th></th>\n",
       "    </tr>\n",
       "  </thead>\n",
       "  <tbody>\n",
       "    <tr>\n",
       "      <th>Corporate L1</th>\n",
       "      <td>359</td>\n",
       "      <td>0</td>\n",
       "      <td>0</td>\n",
       "    </tr>\n",
       "    <tr>\n",
       "      <th>Corporate L2</th>\n",
       "      <td>595</td>\n",
       "      <td>0</td>\n",
       "      <td>0</td>\n",
       "    </tr>\n",
       "    <tr>\n",
       "      <th>Corporate L3</th>\n",
       "      <td>1014</td>\n",
       "      <td>0</td>\n",
       "      <td>0</td>\n",
       "    </tr>\n",
       "    <tr>\n",
       "      <th>Personal L1</th>\n",
       "      <td>0</td>\n",
       "      <td>1240</td>\n",
       "      <td>0</td>\n",
       "    </tr>\n",
       "    <tr>\n",
       "      <th>Personal L2</th>\n",
       "      <td>0</td>\n",
       "      <td>2122</td>\n",
       "      <td>0</td>\n",
       "    </tr>\n",
       "    <tr>\n",
       "      <th>Personal L3</th>\n",
       "      <td>0</td>\n",
       "      <td>3426</td>\n",
       "      <td>0</td>\n",
       "    </tr>\n",
       "    <tr>\n",
       "      <th>Special L1</th>\n",
       "      <td>0</td>\n",
       "      <td>0</td>\n",
       "      <td>66</td>\n",
       "    </tr>\n",
       "    <tr>\n",
       "      <th>Special L2</th>\n",
       "      <td>0</td>\n",
       "      <td>0</td>\n",
       "      <td>164</td>\n",
       "    </tr>\n",
       "    <tr>\n",
       "      <th>Special L3</th>\n",
       "      <td>0</td>\n",
       "      <td>0</td>\n",
       "      <td>148</td>\n",
       "    </tr>\n",
       "  </tbody>\n",
       "</table>\n",
       "</div>"
      ],
      "text/plain": [
       "policy_type   Corporate Auto  Personal Auto  Special Auto\n",
       "policy                                                   \n",
       "Corporate L1             359              0             0\n",
       "Corporate L2             595              0             0\n",
       "Corporate L3            1014              0             0\n",
       "Personal L1                0           1240             0\n",
       "Personal L2                0           2122             0\n",
       "Personal L3                0           3426             0\n",
       "Special L1                 0              0            66\n",
       "Special L2                 0              0           164\n",
       "Special L3                 0              0           148"
      ]
     },
     "execution_count": 34,
     "metadata": {},
     "output_type": "execute_result"
    }
   ],
   "source": [
    "data_crosstab = pd.crosstab(categoricals['policy'], categoricals['policy_type'], margins = False)\n",
    "data_crosstab"
   ]
  },
  {
   "cell_type": "code",
   "execution_count": 35,
   "id": "cbbd63df",
   "metadata": {},
   "outputs": [
    {
     "name": "stdout",
     "output_type": "stream",
     "text": [
      "p-value: 0.0\n"
     ]
    }
   ],
   "source": [
    "print('p-value:', st.chi2_contingency(data_crosstab)[1]) # We already saw that these two variables were linked before and the redundancy holds."
   ]
  },
  {
   "cell_type": "markdown",
   "id": "a19f03c6",
   "metadata": {},
   "source": [
    "Plot time variable. Can you extract something from it?"
   ]
  },
  {
   "cell_type": "code",
   "execution_count": 36,
   "id": "44d0f4b4",
   "metadata": {},
   "outputs": [],
   "source": [
    "#categoricals['effective_to_date'] = pd.to_datetime(categoricals['effective_to_date'], ).dt.month\n",
    "categorical_df['effective_to_date'] = categorical_df['effective_to_date'].apply(lambda x: pd.Timestamp(x).strftime('%d%m%Y')).astype('int64')"
   ]
  },
  {
   "cell_type": "markdown",
   "id": "7766c227",
   "metadata": {},
   "source": [
    "sns.barplot(x='effective_to_date', y=data['total_claim_amount'], data=categoricals)\n",
    "plt.show()"
   ]
  },
  {
   "cell_type": "code",
   "execution_count": 37,
   "id": "fbc98ac7",
   "metadata": {},
   "outputs": [],
   "source": [
    "#Only 2 months are contemplated in the data and their difference is quite small. It doesn't tell us much.\n",
    "#display(categorical_df['effective_to_date'].dt.month.value_counts())"
   ]
  },
  {
   "cell_type": "code",
   "execution_count": null,
   "id": "02c394fb",
   "metadata": {},
   "outputs": [],
   "source": []
  },
  {
   "cell_type": "markdown",
   "id": "7a27ae98",
   "metadata": {},
   "source": [
    "# Lab 4.01"
   ]
  },
  {
   "cell_type": "markdown",
   "id": "0452698b",
   "metadata": {},
   "source": [
    "#### An auto insurance company has collected some data about its customers including their demographics, education, employment, policy details, vehicle information on which insurance policy is, and claim amounts. You will help the senior management with some business questions that will help them to better understand their customers, improve their services, and improve profitability.\n",
    "\n",
    "### Some business Objectives:\n",
    "\n",
    "#### Retain customers,\n",
    "#### Analyze relevant customer data,\n",
    "#### Develop focused customer retention programs.\n",
    "#### Based on the analysis, take targeted actions to increase profitable customer response, retention, and growth."
   ]
  },
  {
   "cell_type": "markdown",
   "id": "2a050fbd",
   "metadata": {},
   "source": [
    "### Import the necessary libraries."
   ]
  },
  {
   "cell_type": "code",
   "execution_count": 38,
   "id": "7144b3c4",
   "metadata": {},
   "outputs": [],
   "source": [
    "import pandas as pd\n",
    "import statistics as stats\n",
    "import numpy as np\n",
    "import math\n",
    "import seaborn as sns\n",
    "import matplotlib.pyplot as plt\n",
    "%matplotlib inline \n",
    " \n",
    "from sklearn import linear_model\n",
    "from sklearn.metrics import mean_squared_error, r2_score, mean_absolute_error\n",
    "from sklearn.preprocessing import MinMaxScaler, StandardScaler, OneHotEncoder  \n",
    "from sklearn.model_selection import train_test_split"
   ]
  },
  {
   "cell_type": "markdown",
   "id": "b56eece6",
   "metadata": {},
   "source": [
    "### Load the we_fn_use_c_marketing_customer_value_analysis.csv into the variable customer_df"
   ]
  },
  {
   "cell_type": "code",
   "execution_count": 39,
   "id": "73b73226",
   "metadata": {},
   "outputs": [],
   "source": [
    "customer_df = pd.read_csv('files_for_lab/we_fn_use_c_marketing_customer_value_analysis.csv')"
   ]
  },
  {
   "cell_type": "markdown",
   "id": "c0db539a",
   "metadata": {},
   "source": [
    "### First look at its main features (head, shape, info).\n",
    "\n"
   ]
  },
  {
   "cell_type": "code",
   "execution_count": 40,
   "id": "34fd717e",
   "metadata": {},
   "outputs": [
    {
     "data": {
      "text/html": [
       "<div>\n",
       "<style scoped>\n",
       "    .dataframe tbody tr th:only-of-type {\n",
       "        vertical-align: middle;\n",
       "    }\n",
       "\n",
       "    .dataframe tbody tr th {\n",
       "        vertical-align: top;\n",
       "    }\n",
       "\n",
       "    .dataframe thead th {\n",
       "        text-align: right;\n",
       "    }\n",
       "</style>\n",
       "<table border=\"1\" class=\"dataframe\">\n",
       "  <thead>\n",
       "    <tr style=\"text-align: right;\">\n",
       "      <th></th>\n",
       "      <th>0</th>\n",
       "      <th>1</th>\n",
       "      <th>2</th>\n",
       "      <th>3</th>\n",
       "      <th>4</th>\n",
       "      <th>5</th>\n",
       "      <th>6</th>\n",
       "      <th>7</th>\n",
       "      <th>8</th>\n",
       "      <th>9</th>\n",
       "      <th>10</th>\n",
       "      <th>11</th>\n",
       "      <th>12</th>\n",
       "      <th>13</th>\n",
       "      <th>14</th>\n",
       "      <th>15</th>\n",
       "      <th>16</th>\n",
       "      <th>17</th>\n",
       "      <th>18</th>\n",
       "      <th>19</th>\n",
       "    </tr>\n",
       "  </thead>\n",
       "  <tbody>\n",
       "    <tr>\n",
       "      <th>Customer</th>\n",
       "      <td>BU79786</td>\n",
       "      <td>QZ44356</td>\n",
       "      <td>AI49188</td>\n",
       "      <td>WW63253</td>\n",
       "      <td>HB64268</td>\n",
       "      <td>OC83172</td>\n",
       "      <td>XZ87318</td>\n",
       "      <td>CF85061</td>\n",
       "      <td>DY87989</td>\n",
       "      <td>BQ94931</td>\n",
       "      <td>SX51350</td>\n",
       "      <td>VQ65197</td>\n",
       "      <td>DP39365</td>\n",
       "      <td>SJ95423</td>\n",
       "      <td>IL66569</td>\n",
       "      <td>BW63560</td>\n",
       "      <td>FV94802</td>\n",
       "      <td>OE15005</td>\n",
       "      <td>WC83389</td>\n",
       "      <td>FL50705</td>\n",
       "    </tr>\n",
       "    <tr>\n",
       "      <th>State</th>\n",
       "      <td>Washington</td>\n",
       "      <td>Arizona</td>\n",
       "      <td>Nevada</td>\n",
       "      <td>California</td>\n",
       "      <td>Washington</td>\n",
       "      <td>Oregon</td>\n",
       "      <td>Oregon</td>\n",
       "      <td>Arizona</td>\n",
       "      <td>Oregon</td>\n",
       "      <td>Oregon</td>\n",
       "      <td>California</td>\n",
       "      <td>California</td>\n",
       "      <td>California</td>\n",
       "      <td>Arizona</td>\n",
       "      <td>California</td>\n",
       "      <td>Oregon</td>\n",
       "      <td>Nevada</td>\n",
       "      <td>California</td>\n",
       "      <td>Oregon</td>\n",
       "      <td>California</td>\n",
       "    </tr>\n",
       "    <tr>\n",
       "      <th>Customer Lifetime Value</th>\n",
       "      <td>2763.519279</td>\n",
       "      <td>6979.535903</td>\n",
       "      <td>12887.43165</td>\n",
       "      <td>7645.861827</td>\n",
       "      <td>2813.692575</td>\n",
       "      <td>8256.2978</td>\n",
       "      <td>5380.898636</td>\n",
       "      <td>7216.100311</td>\n",
       "      <td>24127.50402</td>\n",
       "      <td>7388.178085</td>\n",
       "      <td>4738.992022</td>\n",
       "      <td>8197.197078</td>\n",
       "      <td>8798.797003</td>\n",
       "      <td>8819.018934</td>\n",
       "      <td>5384.431665</td>\n",
       "      <td>7463.139377</td>\n",
       "      <td>2566.867823</td>\n",
       "      <td>3945.241604</td>\n",
       "      <td>5710.333115</td>\n",
       "      <td>8162.617053</td>\n",
       "    </tr>\n",
       "    <tr>\n",
       "      <th>Response</th>\n",
       "      <td>No</td>\n",
       "      <td>No</td>\n",
       "      <td>No</td>\n",
       "      <td>No</td>\n",
       "      <td>No</td>\n",
       "      <td>Yes</td>\n",
       "      <td>Yes</td>\n",
       "      <td>No</td>\n",
       "      <td>Yes</td>\n",
       "      <td>No</td>\n",
       "      <td>No</td>\n",
       "      <td>No</td>\n",
       "      <td>No</td>\n",
       "      <td>Yes</td>\n",
       "      <td>No</td>\n",
       "      <td>No</td>\n",
       "      <td>No</td>\n",
       "      <td>No</td>\n",
       "      <td>No</td>\n",
       "      <td>No</td>\n",
       "    </tr>\n",
       "    <tr>\n",
       "      <th>Coverage</th>\n",
       "      <td>Basic</td>\n",
       "      <td>Extended</td>\n",
       "      <td>Premium</td>\n",
       "      <td>Basic</td>\n",
       "      <td>Basic</td>\n",
       "      <td>Basic</td>\n",
       "      <td>Basic</td>\n",
       "      <td>Premium</td>\n",
       "      <td>Basic</td>\n",
       "      <td>Extended</td>\n",
       "      <td>Basic</td>\n",
       "      <td>Basic</td>\n",
       "      <td>Premium</td>\n",
       "      <td>Basic</td>\n",
       "      <td>Basic</td>\n",
       "      <td>Basic</td>\n",
       "      <td>Basic</td>\n",
       "      <td>Basic</td>\n",
       "      <td>Basic</td>\n",
       "      <td>Premium</td>\n",
       "    </tr>\n",
       "    <tr>\n",
       "      <th>Education</th>\n",
       "      <td>Bachelor</td>\n",
       "      <td>Bachelor</td>\n",
       "      <td>Bachelor</td>\n",
       "      <td>Bachelor</td>\n",
       "      <td>Bachelor</td>\n",
       "      <td>Bachelor</td>\n",
       "      <td>College</td>\n",
       "      <td>Master</td>\n",
       "      <td>Bachelor</td>\n",
       "      <td>College</td>\n",
       "      <td>College</td>\n",
       "      <td>College</td>\n",
       "      <td>Master</td>\n",
       "      <td>High School or Below</td>\n",
       "      <td>College</td>\n",
       "      <td>Bachelor</td>\n",
       "      <td>High School or Below</td>\n",
       "      <td>College</td>\n",
       "      <td>College</td>\n",
       "      <td>High School or Below</td>\n",
       "    </tr>\n",
       "    <tr>\n",
       "      <th>Effective To Date</th>\n",
       "      <td>2/24/11</td>\n",
       "      <td>1/31/11</td>\n",
       "      <td>2/19/11</td>\n",
       "      <td>1/20/11</td>\n",
       "      <td>2/3/11</td>\n",
       "      <td>1/25/11</td>\n",
       "      <td>2/24/11</td>\n",
       "      <td>1/18/11</td>\n",
       "      <td>1/26/11</td>\n",
       "      <td>2/17/11</td>\n",
       "      <td>2/21/11</td>\n",
       "      <td>1/6/11</td>\n",
       "      <td>2/6/11</td>\n",
       "      <td>1/10/11</td>\n",
       "      <td>1/18/11</td>\n",
       "      <td>1/17/11</td>\n",
       "      <td>2/6/11</td>\n",
       "      <td>1/5/11</td>\n",
       "      <td>2/27/11</td>\n",
       "      <td>1/14/11</td>\n",
       "    </tr>\n",
       "    <tr>\n",
       "      <th>EmploymentStatus</th>\n",
       "      <td>Employed</td>\n",
       "      <td>Unemployed</td>\n",
       "      <td>Employed</td>\n",
       "      <td>Unemployed</td>\n",
       "      <td>Employed</td>\n",
       "      <td>Employed</td>\n",
       "      <td>Employed</td>\n",
       "      <td>Unemployed</td>\n",
       "      <td>Medical Leave</td>\n",
       "      <td>Employed</td>\n",
       "      <td>Unemployed</td>\n",
       "      <td>Unemployed</td>\n",
       "      <td>Employed</td>\n",
       "      <td>Employed</td>\n",
       "      <td>Employed</td>\n",
       "      <td>Employed</td>\n",
       "      <td>Medical Leave</td>\n",
       "      <td>Medical Leave</td>\n",
       "      <td>Employed</td>\n",
       "      <td>Employed</td>\n",
       "    </tr>\n",
       "    <tr>\n",
       "      <th>Gender</th>\n",
       "      <td>F</td>\n",
       "      <td>F</td>\n",
       "      <td>F</td>\n",
       "      <td>M</td>\n",
       "      <td>M</td>\n",
       "      <td>F</td>\n",
       "      <td>F</td>\n",
       "      <td>M</td>\n",
       "      <td>M</td>\n",
       "      <td>F</td>\n",
       "      <td>M</td>\n",
       "      <td>F</td>\n",
       "      <td>M</td>\n",
       "      <td>M</td>\n",
       "      <td>M</td>\n",
       "      <td>F</td>\n",
       "      <td>M</td>\n",
       "      <td>M</td>\n",
       "      <td>M</td>\n",
       "      <td>F</td>\n",
       "    </tr>\n",
       "    <tr>\n",
       "      <th>Income</th>\n",
       "      <td>56274</td>\n",
       "      <td>0</td>\n",
       "      <td>48767</td>\n",
       "      <td>0</td>\n",
       "      <td>43836</td>\n",
       "      <td>62902</td>\n",
       "      <td>55350</td>\n",
       "      <td>0</td>\n",
       "      <td>14072</td>\n",
       "      <td>28812</td>\n",
       "      <td>0</td>\n",
       "      <td>0</td>\n",
       "      <td>77026</td>\n",
       "      <td>99845</td>\n",
       "      <td>83689</td>\n",
       "      <td>24599</td>\n",
       "      <td>25049</td>\n",
       "      <td>28855</td>\n",
       "      <td>51148</td>\n",
       "      <td>66140</td>\n",
       "    </tr>\n",
       "    <tr>\n",
       "      <th>Location Code</th>\n",
       "      <td>Suburban</td>\n",
       "      <td>Suburban</td>\n",
       "      <td>Suburban</td>\n",
       "      <td>Suburban</td>\n",
       "      <td>Rural</td>\n",
       "      <td>Rural</td>\n",
       "      <td>Suburban</td>\n",
       "      <td>Urban</td>\n",
       "      <td>Suburban</td>\n",
       "      <td>Urban</td>\n",
       "      <td>Suburban</td>\n",
       "      <td>Suburban</td>\n",
       "      <td>Urban</td>\n",
       "      <td>Suburban</td>\n",
       "      <td>Urban</td>\n",
       "      <td>Rural</td>\n",
       "      <td>Suburban</td>\n",
       "      <td>Suburban</td>\n",
       "      <td>Urban</td>\n",
       "      <td>Suburban</td>\n",
       "    </tr>\n",
       "    <tr>\n",
       "      <th>Marital Status</th>\n",
       "      <td>Married</td>\n",
       "      <td>Single</td>\n",
       "      <td>Married</td>\n",
       "      <td>Married</td>\n",
       "      <td>Single</td>\n",
       "      <td>Married</td>\n",
       "      <td>Married</td>\n",
       "      <td>Single</td>\n",
       "      <td>Divorced</td>\n",
       "      <td>Married</td>\n",
       "      <td>Single</td>\n",
       "      <td>Married</td>\n",
       "      <td>Married</td>\n",
       "      <td>Married</td>\n",
       "      <td>Single</td>\n",
       "      <td>Married</td>\n",
       "      <td>Married</td>\n",
       "      <td>Married</td>\n",
       "      <td>Married</td>\n",
       "      <td>Married</td>\n",
       "    </tr>\n",
       "    <tr>\n",
       "      <th>Monthly Premium Auto</th>\n",
       "      <td>69</td>\n",
       "      <td>94</td>\n",
       "      <td>108</td>\n",
       "      <td>106</td>\n",
       "      <td>73</td>\n",
       "      <td>69</td>\n",
       "      <td>67</td>\n",
       "      <td>101</td>\n",
       "      <td>71</td>\n",
       "      <td>93</td>\n",
       "      <td>67</td>\n",
       "      <td>110</td>\n",
       "      <td>110</td>\n",
       "      <td>110</td>\n",
       "      <td>70</td>\n",
       "      <td>64</td>\n",
       "      <td>67</td>\n",
       "      <td>101</td>\n",
       "      <td>72</td>\n",
       "      <td>101</td>\n",
       "    </tr>\n",
       "    <tr>\n",
       "      <th>Months Since Last Claim</th>\n",
       "      <td>32</td>\n",
       "      <td>13</td>\n",
       "      <td>18</td>\n",
       "      <td>18</td>\n",
       "      <td>12</td>\n",
       "      <td>14</td>\n",
       "      <td>0</td>\n",
       "      <td>0</td>\n",
       "      <td>13</td>\n",
       "      <td>17</td>\n",
       "      <td>23</td>\n",
       "      <td>27</td>\n",
       "      <td>9</td>\n",
       "      <td>23</td>\n",
       "      <td>21</td>\n",
       "      <td>12</td>\n",
       "      <td>14</td>\n",
       "      <td>12</td>\n",
       "      <td>9</td>\n",
       "      <td>11</td>\n",
       "    </tr>\n",
       "    <tr>\n",
       "      <th>Months Since Policy Inception</th>\n",
       "      <td>5</td>\n",
       "      <td>42</td>\n",
       "      <td>38</td>\n",
       "      <td>65</td>\n",
       "      <td>44</td>\n",
       "      <td>94</td>\n",
       "      <td>13</td>\n",
       "      <td>68</td>\n",
       "      <td>3</td>\n",
       "      <td>7</td>\n",
       "      <td>5</td>\n",
       "      <td>87</td>\n",
       "      <td>82</td>\n",
       "      <td>25</td>\n",
       "      <td>10</td>\n",
       "      <td>50</td>\n",
       "      <td>7</td>\n",
       "      <td>59</td>\n",
       "      <td>1</td>\n",
       "      <td>21</td>\n",
       "    </tr>\n",
       "    <tr>\n",
       "      <th>Number of Open Complaints</th>\n",
       "      <td>0</td>\n",
       "      <td>0</td>\n",
       "      <td>0</td>\n",
       "      <td>0</td>\n",
       "      <td>0</td>\n",
       "      <td>0</td>\n",
       "      <td>0</td>\n",
       "      <td>0</td>\n",
       "      <td>0</td>\n",
       "      <td>0</td>\n",
       "      <td>0</td>\n",
       "      <td>0</td>\n",
       "      <td>2</td>\n",
       "      <td>1</td>\n",
       "      <td>2</td>\n",
       "      <td>1</td>\n",
       "      <td>0</td>\n",
       "      <td>0</td>\n",
       "      <td>0</td>\n",
       "      <td>0</td>\n",
       "    </tr>\n",
       "    <tr>\n",
       "      <th>Number of Policies</th>\n",
       "      <td>1</td>\n",
       "      <td>8</td>\n",
       "      <td>2</td>\n",
       "      <td>7</td>\n",
       "      <td>1</td>\n",
       "      <td>2</td>\n",
       "      <td>9</td>\n",
       "      <td>4</td>\n",
       "      <td>2</td>\n",
       "      <td>8</td>\n",
       "      <td>3</td>\n",
       "      <td>3</td>\n",
       "      <td>3</td>\n",
       "      <td>8</td>\n",
       "      <td>8</td>\n",
       "      <td>2</td>\n",
       "      <td>1</td>\n",
       "      <td>1</td>\n",
       "      <td>7</td>\n",
       "      <td>3</td>\n",
       "    </tr>\n",
       "    <tr>\n",
       "      <th>Policy Type</th>\n",
       "      <td>Corporate Auto</td>\n",
       "      <td>Personal Auto</td>\n",
       "      <td>Personal Auto</td>\n",
       "      <td>Corporate Auto</td>\n",
       "      <td>Personal Auto</td>\n",
       "      <td>Personal Auto</td>\n",
       "      <td>Corporate Auto</td>\n",
       "      <td>Corporate Auto</td>\n",
       "      <td>Corporate Auto</td>\n",
       "      <td>Special Auto</td>\n",
       "      <td>Personal Auto</td>\n",
       "      <td>Personal Auto</td>\n",
       "      <td>Corporate Auto</td>\n",
       "      <td>Corporate Auto</td>\n",
       "      <td>Corporate Auto</td>\n",
       "      <td>Corporate Auto</td>\n",
       "      <td>Personal Auto</td>\n",
       "      <td>Personal Auto</td>\n",
       "      <td>Personal Auto</td>\n",
       "      <td>Corporate Auto</td>\n",
       "    </tr>\n",
       "    <tr>\n",
       "      <th>Policy</th>\n",
       "      <td>Corporate L3</td>\n",
       "      <td>Personal L3</td>\n",
       "      <td>Personal L3</td>\n",
       "      <td>Corporate L2</td>\n",
       "      <td>Personal L1</td>\n",
       "      <td>Personal L3</td>\n",
       "      <td>Corporate L3</td>\n",
       "      <td>Corporate L3</td>\n",
       "      <td>Corporate L3</td>\n",
       "      <td>Special L2</td>\n",
       "      <td>Personal L3</td>\n",
       "      <td>Personal L3</td>\n",
       "      <td>Corporate L1</td>\n",
       "      <td>Corporate L3</td>\n",
       "      <td>Corporate L3</td>\n",
       "      <td>Corporate L2</td>\n",
       "      <td>Personal L3</td>\n",
       "      <td>Personal L2</td>\n",
       "      <td>Personal L2</td>\n",
       "      <td>Corporate L2</td>\n",
       "    </tr>\n",
       "    <tr>\n",
       "      <th>Renew Offer Type</th>\n",
       "      <td>Offer1</td>\n",
       "      <td>Offer3</td>\n",
       "      <td>Offer1</td>\n",
       "      <td>Offer1</td>\n",
       "      <td>Offer1</td>\n",
       "      <td>Offer2</td>\n",
       "      <td>Offer1</td>\n",
       "      <td>Offer1</td>\n",
       "      <td>Offer1</td>\n",
       "      <td>Offer2</td>\n",
       "      <td>Offer1</td>\n",
       "      <td>Offer2</td>\n",
       "      <td>Offer2</td>\n",
       "      <td>Offer2</td>\n",
       "      <td>Offer4</td>\n",
       "      <td>Offer2</td>\n",
       "      <td>Offer2</td>\n",
       "      <td>Offer3</td>\n",
       "      <td>Offer2</td>\n",
       "      <td>Offer1</td>\n",
       "    </tr>\n",
       "    <tr>\n",
       "      <th>Sales Channel</th>\n",
       "      <td>Agent</td>\n",
       "      <td>Agent</td>\n",
       "      <td>Agent</td>\n",
       "      <td>Call Center</td>\n",
       "      <td>Agent</td>\n",
       "      <td>Web</td>\n",
       "      <td>Agent</td>\n",
       "      <td>Agent</td>\n",
       "      <td>Agent</td>\n",
       "      <td>Branch</td>\n",
       "      <td>Agent</td>\n",
       "      <td>Agent</td>\n",
       "      <td>Agent</td>\n",
       "      <td>Branch</td>\n",
       "      <td>Call Center</td>\n",
       "      <td>Branch</td>\n",
       "      <td>Call Center</td>\n",
       "      <td>Call Center</td>\n",
       "      <td>Branch</td>\n",
       "      <td>Call Center</td>\n",
       "    </tr>\n",
       "    <tr>\n",
       "      <th>Total Claim Amount</th>\n",
       "      <td>384.811147</td>\n",
       "      <td>1131.464935</td>\n",
       "      <td>566.472247</td>\n",
       "      <td>529.881344</td>\n",
       "      <td>138.130879</td>\n",
       "      <td>159.383042</td>\n",
       "      <td>321.6</td>\n",
       "      <td>363.02968</td>\n",
       "      <td>511.2</td>\n",
       "      <td>425.527834</td>\n",
       "      <td>482.4</td>\n",
       "      <td>528.0</td>\n",
       "      <td>472.029737</td>\n",
       "      <td>528.0</td>\n",
       "      <td>307.139132</td>\n",
       "      <td>42.920271</td>\n",
       "      <td>454.245098</td>\n",
       "      <td>647.442031</td>\n",
       "      <td>308.981664</td>\n",
       "      <td>484.8</td>\n",
       "    </tr>\n",
       "    <tr>\n",
       "      <th>Vehicle Class</th>\n",
       "      <td>Two-Door Car</td>\n",
       "      <td>Four-Door Car</td>\n",
       "      <td>Two-Door Car</td>\n",
       "      <td>SUV</td>\n",
       "      <td>Four-Door Car</td>\n",
       "      <td>Two-Door Car</td>\n",
       "      <td>Four-Door Car</td>\n",
       "      <td>Four-Door Car</td>\n",
       "      <td>Four-Door Car</td>\n",
       "      <td>Four-Door Car</td>\n",
       "      <td>Four-Door Car</td>\n",
       "      <td>SUV</td>\n",
       "      <td>Four-Door Car</td>\n",
       "      <td>SUV</td>\n",
       "      <td>Four-Door Car</td>\n",
       "      <td>Four-Door Car</td>\n",
       "      <td>Two-Door Car</td>\n",
       "      <td>SUV</td>\n",
       "      <td>Four-Door Car</td>\n",
       "      <td>Four-Door Car</td>\n",
       "    </tr>\n",
       "    <tr>\n",
       "      <th>Vehicle Size</th>\n",
       "      <td>Medsize</td>\n",
       "      <td>Medsize</td>\n",
       "      <td>Medsize</td>\n",
       "      <td>Medsize</td>\n",
       "      <td>Medsize</td>\n",
       "      <td>Medsize</td>\n",
       "      <td>Medsize</td>\n",
       "      <td>Medsize</td>\n",
       "      <td>Medsize</td>\n",
       "      <td>Medsize</td>\n",
       "      <td>Small</td>\n",
       "      <td>Medsize</td>\n",
       "      <td>Medsize</td>\n",
       "      <td>Medsize</td>\n",
       "      <td>Medsize</td>\n",
       "      <td>Medsize</td>\n",
       "      <td>Medsize</td>\n",
       "      <td>Medsize</td>\n",
       "      <td>Medsize</td>\n",
       "      <td>Small</td>\n",
       "    </tr>\n",
       "  </tbody>\n",
       "</table>\n",
       "</div>"
      ],
      "text/plain": [
       "                                           0              1              2   \\\n",
       "Customer                              BU79786        QZ44356        AI49188   \n",
       "State                              Washington        Arizona         Nevada   \n",
       "Customer Lifetime Value           2763.519279    6979.535903    12887.43165   \n",
       "Response                                   No             No             No   \n",
       "Coverage                                Basic       Extended        Premium   \n",
       "Education                            Bachelor       Bachelor       Bachelor   \n",
       "Effective To Date                     2/24/11        1/31/11        2/19/11   \n",
       "EmploymentStatus                     Employed     Unemployed       Employed   \n",
       "Gender                                      F              F              F   \n",
       "Income                                  56274              0          48767   \n",
       "Location Code                        Suburban       Suburban       Suburban   \n",
       "Marital Status                        Married         Single        Married   \n",
       "Monthly Premium Auto                       69             94            108   \n",
       "Months Since Last Claim                    32             13             18   \n",
       "Months Since Policy Inception               5             42             38   \n",
       "Number of Open Complaints                   0              0              0   \n",
       "Number of Policies                          1              8              2   \n",
       "Policy Type                    Corporate Auto  Personal Auto  Personal Auto   \n",
       "Policy                           Corporate L3    Personal L3    Personal L3   \n",
       "Renew Offer Type                       Offer1         Offer3         Offer1   \n",
       "Sales Channel                           Agent          Agent          Agent   \n",
       "Total Claim Amount                 384.811147    1131.464935     566.472247   \n",
       "Vehicle Class                    Two-Door Car  Four-Door Car   Two-Door Car   \n",
       "Vehicle Size                          Medsize        Medsize        Medsize   \n",
       "\n",
       "                                           3              4              5   \\\n",
       "Customer                              WW63253        HB64268        OC83172   \n",
       "State                              California     Washington         Oregon   \n",
       "Customer Lifetime Value           7645.861827    2813.692575      8256.2978   \n",
       "Response                                   No             No            Yes   \n",
       "Coverage                                Basic          Basic          Basic   \n",
       "Education                            Bachelor       Bachelor       Bachelor   \n",
       "Effective To Date                     1/20/11         2/3/11        1/25/11   \n",
       "EmploymentStatus                   Unemployed       Employed       Employed   \n",
       "Gender                                      M              M              F   \n",
       "Income                                      0          43836          62902   \n",
       "Location Code                        Suburban          Rural          Rural   \n",
       "Marital Status                        Married         Single        Married   \n",
       "Monthly Premium Auto                      106             73             69   \n",
       "Months Since Last Claim                    18             12             14   \n",
       "Months Since Policy Inception              65             44             94   \n",
       "Number of Open Complaints                   0              0              0   \n",
       "Number of Policies                          7              1              2   \n",
       "Policy Type                    Corporate Auto  Personal Auto  Personal Auto   \n",
       "Policy                           Corporate L2    Personal L1    Personal L3   \n",
       "Renew Offer Type                       Offer1         Offer1         Offer2   \n",
       "Sales Channel                     Call Center          Agent            Web   \n",
       "Total Claim Amount                 529.881344     138.130879     159.383042   \n",
       "Vehicle Class                             SUV  Four-Door Car   Two-Door Car   \n",
       "Vehicle Size                          Medsize        Medsize        Medsize   \n",
       "\n",
       "                                           6               7               8   \\\n",
       "Customer                              XZ87318         CF85061         DY87989   \n",
       "State                                  Oregon         Arizona          Oregon   \n",
       "Customer Lifetime Value           5380.898636     7216.100311     24127.50402   \n",
       "Response                                  Yes              No             Yes   \n",
       "Coverage                                Basic         Premium           Basic   \n",
       "Education                             College          Master        Bachelor   \n",
       "Effective To Date                     2/24/11         1/18/11         1/26/11   \n",
       "EmploymentStatus                     Employed      Unemployed   Medical Leave   \n",
       "Gender                                      F               M               M   \n",
       "Income                                  55350               0           14072   \n",
       "Location Code                        Suburban           Urban        Suburban   \n",
       "Marital Status                        Married          Single        Divorced   \n",
       "Monthly Premium Auto                       67             101              71   \n",
       "Months Since Last Claim                     0               0              13   \n",
       "Months Since Policy Inception              13              68               3   \n",
       "Number of Open Complaints                   0               0               0   \n",
       "Number of Policies                          9               4               2   \n",
       "Policy Type                    Corporate Auto  Corporate Auto  Corporate Auto   \n",
       "Policy                           Corporate L3    Corporate L3    Corporate L3   \n",
       "Renew Offer Type                       Offer1          Offer1          Offer1   \n",
       "Sales Channel                           Agent           Agent           Agent   \n",
       "Total Claim Amount                      321.6       363.02968           511.2   \n",
       "Vehicle Class                   Four-Door Car   Four-Door Car   Four-Door Car   \n",
       "Vehicle Size                          Medsize         Medsize         Medsize   \n",
       "\n",
       "                                          9              10             11  \\\n",
       "Customer                             BQ94931        SX51350        VQ65197   \n",
       "State                                 Oregon     California     California   \n",
       "Customer Lifetime Value          7388.178085    4738.992022    8197.197078   \n",
       "Response                                  No             No             No   \n",
       "Coverage                            Extended          Basic          Basic   \n",
       "Education                            College        College        College   \n",
       "Effective To Date                    2/17/11        2/21/11         1/6/11   \n",
       "EmploymentStatus                    Employed     Unemployed     Unemployed   \n",
       "Gender                                     F              M              F   \n",
       "Income                                 28812              0              0   \n",
       "Location Code                          Urban       Suburban       Suburban   \n",
       "Marital Status                       Married         Single        Married   \n",
       "Monthly Premium Auto                      93             67            110   \n",
       "Months Since Last Claim                   17             23             27   \n",
       "Months Since Policy Inception              7              5             87   \n",
       "Number of Open Complaints                  0              0              0   \n",
       "Number of Policies                         8              3              3   \n",
       "Policy Type                     Special Auto  Personal Auto  Personal Auto   \n",
       "Policy                            Special L2    Personal L3    Personal L3   \n",
       "Renew Offer Type                      Offer2         Offer1         Offer2   \n",
       "Sales Channel                         Branch          Agent          Agent   \n",
       "Total Claim Amount                425.527834          482.4          528.0   \n",
       "Vehicle Class                  Four-Door Car  Four-Door Car            SUV   \n",
       "Vehicle Size                         Medsize          Small        Medsize   \n",
       "\n",
       "                                           12                    13  \\\n",
       "Customer                              DP39365               SJ95423   \n",
       "State                              California               Arizona   \n",
       "Customer Lifetime Value           8798.797003           8819.018934   \n",
       "Response                                   No                   Yes   \n",
       "Coverage                              Premium                 Basic   \n",
       "Education                              Master  High School or Below   \n",
       "Effective To Date                      2/6/11               1/10/11   \n",
       "EmploymentStatus                     Employed              Employed   \n",
       "Gender                                      M                     M   \n",
       "Income                                  77026                 99845   \n",
       "Location Code                           Urban              Suburban   \n",
       "Marital Status                        Married               Married   \n",
       "Monthly Premium Auto                      110                   110   \n",
       "Months Since Last Claim                     9                    23   \n",
       "Months Since Policy Inception              82                    25   \n",
       "Number of Open Complaints                   2                     1   \n",
       "Number of Policies                          3                     8   \n",
       "Policy Type                    Corporate Auto        Corporate Auto   \n",
       "Policy                           Corporate L1          Corporate L3   \n",
       "Renew Offer Type                       Offer2                Offer2   \n",
       "Sales Channel                           Agent                Branch   \n",
       "Total Claim Amount                 472.029737                 528.0   \n",
       "Vehicle Class                   Four-Door Car                   SUV   \n",
       "Vehicle Size                          Medsize               Medsize   \n",
       "\n",
       "                                           14              15  \\\n",
       "Customer                              IL66569         BW63560   \n",
       "State                              California          Oregon   \n",
       "Customer Lifetime Value           5384.431665     7463.139377   \n",
       "Response                                   No              No   \n",
       "Coverage                                Basic           Basic   \n",
       "Education                             College        Bachelor   \n",
       "Effective To Date                     1/18/11         1/17/11   \n",
       "EmploymentStatus                     Employed        Employed   \n",
       "Gender                                      M               F   \n",
       "Income                                  83689           24599   \n",
       "Location Code                           Urban           Rural   \n",
       "Marital Status                         Single         Married   \n",
       "Monthly Premium Auto                       70              64   \n",
       "Months Since Last Claim                    21              12   \n",
       "Months Since Policy Inception              10              50   \n",
       "Number of Open Complaints                   2               1   \n",
       "Number of Policies                          8               2   \n",
       "Policy Type                    Corporate Auto  Corporate Auto   \n",
       "Policy                           Corporate L3    Corporate L2   \n",
       "Renew Offer Type                       Offer4          Offer2   \n",
       "Sales Channel                     Call Center          Branch   \n",
       "Total Claim Amount                 307.139132       42.920271   \n",
       "Vehicle Class                   Four-Door Car   Four-Door Car   \n",
       "Vehicle Size                          Medsize         Medsize   \n",
       "\n",
       "                                                 16             17  \\\n",
       "Customer                                    FV94802        OE15005   \n",
       "State                                        Nevada     California   \n",
       "Customer Lifetime Value                 2566.867823    3945.241604   \n",
       "Response                                         No             No   \n",
       "Coverage                                      Basic          Basic   \n",
       "Education                      High School or Below        College   \n",
       "Effective To Date                            2/6/11         1/5/11   \n",
       "EmploymentStatus                      Medical Leave  Medical Leave   \n",
       "Gender                                            M              M   \n",
       "Income                                        25049          28855   \n",
       "Location Code                              Suburban       Suburban   \n",
       "Marital Status                              Married        Married   \n",
       "Monthly Premium Auto                             67            101   \n",
       "Months Since Last Claim                          14             12   \n",
       "Months Since Policy Inception                     7             59   \n",
       "Number of Open Complaints                         0              0   \n",
       "Number of Policies                                1              1   \n",
       "Policy Type                           Personal Auto  Personal Auto   \n",
       "Policy                                  Personal L3    Personal L2   \n",
       "Renew Offer Type                             Offer2         Offer3   \n",
       "Sales Channel                           Call Center    Call Center   \n",
       "Total Claim Amount                       454.245098     647.442031   \n",
       "Vehicle Class                          Two-Door Car            SUV   \n",
       "Vehicle Size                                Medsize        Medsize   \n",
       "\n",
       "                                          18                    19  \n",
       "Customer                             WC83389               FL50705  \n",
       "State                                 Oregon            California  \n",
       "Customer Lifetime Value          5710.333115           8162.617053  \n",
       "Response                                  No                    No  \n",
       "Coverage                               Basic               Premium  \n",
       "Education                            College  High School or Below  \n",
       "Effective To Date                    2/27/11               1/14/11  \n",
       "EmploymentStatus                    Employed              Employed  \n",
       "Gender                                     M                     F  \n",
       "Income                                 51148                 66140  \n",
       "Location Code                          Urban              Suburban  \n",
       "Marital Status                       Married               Married  \n",
       "Monthly Premium Auto                      72                   101  \n",
       "Months Since Last Claim                    9                    11  \n",
       "Months Since Policy Inception              1                    21  \n",
       "Number of Open Complaints                  0                     0  \n",
       "Number of Policies                         7                     3  \n",
       "Policy Type                    Personal Auto        Corporate Auto  \n",
       "Policy                           Personal L2          Corporate L2  \n",
       "Renew Offer Type                      Offer2                Offer1  \n",
       "Sales Channel                         Branch           Call Center  \n",
       "Total Claim Amount                308.981664                 484.8  \n",
       "Vehicle Class                  Four-Door Car         Four-Door Car  \n",
       "Vehicle Size                         Medsize                 Small  "
      ]
     },
     "execution_count": 40,
     "metadata": {},
     "output_type": "execute_result"
    }
   ],
   "source": [
    "customer_df.head(20).T"
   ]
  },
  {
   "cell_type": "code",
   "execution_count": 41,
   "id": "9f3b7f30",
   "metadata": {},
   "outputs": [
    {
     "data": {
      "text/plain": [
       "(9134, 24)"
      ]
     },
     "execution_count": 41,
     "metadata": {},
     "output_type": "execute_result"
    }
   ],
   "source": [
    "customer_df.shape"
   ]
  },
  {
   "cell_type": "code",
   "execution_count": 42,
   "id": "c6cb9c8e",
   "metadata": {},
   "outputs": [
    {
     "data": {
      "text/plain": [
       "Customer                         0\n",
       "State                            0\n",
       "Customer Lifetime Value          0\n",
       "Response                         0\n",
       "Coverage                         0\n",
       "Education                        0\n",
       "Effective To Date                0\n",
       "EmploymentStatus                 0\n",
       "Gender                           0\n",
       "Income                           0\n",
       "Location Code                    0\n",
       "Marital Status                   0\n",
       "Monthly Premium Auto             0\n",
       "Months Since Last Claim          0\n",
       "Months Since Policy Inception    0\n",
       "Number of Open Complaints        0\n",
       "Number of Policies               0\n",
       "Policy Type                      0\n",
       "Policy                           0\n",
       "Renew Offer Type                 0\n",
       "Sales Channel                    0\n",
       "Total Claim Amount               0\n",
       "Vehicle Class                    0\n",
       "Vehicle Size                     0\n",
       "dtype: int64"
      ]
     },
     "execution_count": 42,
     "metadata": {},
     "output_type": "execute_result"
    }
   ],
   "source": [
    "customer_df.isna().sum() #No Nans"
   ]
  },
  {
   "cell_type": "markdown",
   "id": "d0e7a7c9",
   "metadata": {},
   "source": [
    "### Rename the columns so they follow the PE8 (snake case) (lower_case_with_underscores)\n",
    "\n"
   ]
  },
  {
   "cell_type": "code",
   "execution_count": 43,
   "id": "3ff2a687",
   "metadata": {},
   "outputs": [],
   "source": [
    "customer_df.columns = list(map(lambda x: x.lower().replace(' ','_'), customer_df.columns))"
   ]
  },
  {
   "cell_type": "markdown",
   "id": "0de0676c",
   "metadata": {},
   "source": [
    "### Change effective to date column to datetime format."
   ]
  },
  {
   "cell_type": "code",
   "execution_count": 44,
   "id": "1b6140e6",
   "metadata": {},
   "outputs": [],
   "source": [
    "#customer_df['effective_to_date'] = pd.to_datetime(customer_df['effective_to_date'], errors='coerce')"
   ]
  },
  {
   "cell_type": "code",
   "execution_count": 45,
   "id": "4e6a9d14",
   "metadata": {},
   "outputs": [
    {
     "data": {
      "text/plain": [
       "customer                         9134\n",
       "state                               5\n",
       "customer_lifetime_value          8041\n",
       "response                            2\n",
       "coverage                            3\n",
       "education                           5\n",
       "effective_to_date                  59\n",
       "employmentstatus                    5\n",
       "gender                              2\n",
       "income                           5694\n",
       "location_code                       3\n",
       "marital_status                      3\n",
       "monthly_premium_auto              202\n",
       "months_since_last_claim            36\n",
       "months_since_policy_inception     100\n",
       "number_of_open_complaints           6\n",
       "number_of_policies                  9\n",
       "policy_type                         3\n",
       "policy                              9\n",
       "renew_offer_type                    4\n",
       "sales_channel                       4\n",
       "total_claim_amount               5106\n",
       "vehicle_class                       6\n",
       "vehicle_size                        3\n",
       "dtype: int64"
      ]
     },
     "execution_count": 45,
     "metadata": {},
     "output_type": "execute_result"
    }
   ],
   "source": [
    "customer_df.nunique()"
   ]
  },
  {
   "cell_type": "code",
   "execution_count": 46,
   "id": "d2382060",
   "metadata": {},
   "outputs": [],
   "source": [
    "customer_df_num = customer_df.select_dtypes(include=[np.number])"
   ]
  },
  {
   "cell_type": "markdown",
   "id": "492162b1",
   "metadata": {},
   "source": [
    "### Define a function that differentiates between continuous and discrete variables. Hint: The number of unique values might be useful. Store continuous data into a continuous_df variable and do the same for discrete_df"
   ]
  },
  {
   "cell_type": "code",
   "execution_count": 47,
   "id": "816b1356",
   "metadata": {},
   "outputs": [],
   "source": [
    "def discrete(x):\n",
    "    \n",
    "    column = list(x.columns)\n",
    "    continuous = []\n",
    "    \n",
    "    for i in column:\n",
    "        if x[i].nunique() > 100:\n",
    "            continuous.append(i)\n",
    "        else:\n",
    "            pass\n",
    "        \n",
    "    discrete_df = x.drop(continuous, axis =1 )\n",
    "    return discrete_df\n",
    "\n",
    "def continuous(x):            \n",
    " \n",
    "    column = list(x.columns)\n",
    "    discrete = []\n",
    "    \n",
    "    for i in column:\n",
    "        if x[i].nunique() <= 100:\n",
    "            discrete.append(i)\n",
    "        else:\n",
    "            pass\n",
    "        \n",
    "    continuous_df = x.drop(discrete, axis =1 )\n",
    "    return continuous_df"
   ]
  },
  {
   "cell_type": "code",
   "execution_count": 48,
   "id": "3514a8db",
   "metadata": {},
   "outputs": [],
   "source": [
    "continuous_df = continuous(customer_df_num)"
   ]
  },
  {
   "cell_type": "code",
   "execution_count": 49,
   "id": "26dcf79f",
   "metadata": {},
   "outputs": [],
   "source": [
    "discrete_df = discrete(customer_df_num)"
   ]
  },
  {
   "cell_type": "code",
   "execution_count": 50,
   "id": "8e89aba4",
   "metadata": {},
   "outputs": [
    {
     "data": {
      "text/html": [
       "<div>\n",
       "<style scoped>\n",
       "    .dataframe tbody tr th:only-of-type {\n",
       "        vertical-align: middle;\n",
       "    }\n",
       "\n",
       "    .dataframe tbody tr th {\n",
       "        vertical-align: top;\n",
       "    }\n",
       "\n",
       "    .dataframe thead th {\n",
       "        text-align: right;\n",
       "    }\n",
       "</style>\n",
       "<table border=\"1\" class=\"dataframe\">\n",
       "  <thead>\n",
       "    <tr style=\"text-align: right;\">\n",
       "      <th></th>\n",
       "      <th>months_since_last_claim</th>\n",
       "      <th>months_since_policy_inception</th>\n",
       "      <th>number_of_open_complaints</th>\n",
       "      <th>number_of_policies</th>\n",
       "    </tr>\n",
       "  </thead>\n",
       "  <tbody>\n",
       "    <tr>\n",
       "      <th>0</th>\n",
       "      <td>32</td>\n",
       "      <td>5</td>\n",
       "      <td>0</td>\n",
       "      <td>1</td>\n",
       "    </tr>\n",
       "    <tr>\n",
       "      <th>1</th>\n",
       "      <td>13</td>\n",
       "      <td>42</td>\n",
       "      <td>0</td>\n",
       "      <td>8</td>\n",
       "    </tr>\n",
       "    <tr>\n",
       "      <th>2</th>\n",
       "      <td>18</td>\n",
       "      <td>38</td>\n",
       "      <td>0</td>\n",
       "      <td>2</td>\n",
       "    </tr>\n",
       "    <tr>\n",
       "      <th>3</th>\n",
       "      <td>18</td>\n",
       "      <td>65</td>\n",
       "      <td>0</td>\n",
       "      <td>7</td>\n",
       "    </tr>\n",
       "    <tr>\n",
       "      <th>4</th>\n",
       "      <td>12</td>\n",
       "      <td>44</td>\n",
       "      <td>0</td>\n",
       "      <td>1</td>\n",
       "    </tr>\n",
       "  </tbody>\n",
       "</table>\n",
       "</div>"
      ],
      "text/plain": [
       "   months_since_last_claim  months_since_policy_inception  \\\n",
       "0                       32                              5   \n",
       "1                       13                             42   \n",
       "2                       18                             38   \n",
       "3                       18                             65   \n",
       "4                       12                             44   \n",
       "\n",
       "   number_of_open_complaints  number_of_policies  \n",
       "0                          0                   1  \n",
       "1                          0                   8  \n",
       "2                          0                   2  \n",
       "3                          0                   7  \n",
       "4                          0                   1  "
      ]
     },
     "execution_count": 50,
     "metadata": {},
     "output_type": "execute_result"
    }
   ],
   "source": [
    "discrete_df.head()"
   ]
  },
  {
   "cell_type": "code",
   "execution_count": 51,
   "id": "839bdcd8",
   "metadata": {},
   "outputs": [
    {
     "data": {
      "text/html": [
       "<div>\n",
       "<style scoped>\n",
       "    .dataframe tbody tr th:only-of-type {\n",
       "        vertical-align: middle;\n",
       "    }\n",
       "\n",
       "    .dataframe tbody tr th {\n",
       "        vertical-align: top;\n",
       "    }\n",
       "\n",
       "    .dataframe thead th {\n",
       "        text-align: right;\n",
       "    }\n",
       "</style>\n",
       "<table border=\"1\" class=\"dataframe\">\n",
       "  <thead>\n",
       "    <tr style=\"text-align: right;\">\n",
       "      <th></th>\n",
       "      <th>customer_lifetime_value</th>\n",
       "      <th>income</th>\n",
       "      <th>monthly_premium_auto</th>\n",
       "      <th>total_claim_amount</th>\n",
       "    </tr>\n",
       "  </thead>\n",
       "  <tbody>\n",
       "    <tr>\n",
       "      <th>0</th>\n",
       "      <td>2763.519279</td>\n",
       "      <td>56274</td>\n",
       "      <td>69</td>\n",
       "      <td>384.811147</td>\n",
       "    </tr>\n",
       "    <tr>\n",
       "      <th>1</th>\n",
       "      <td>6979.535903</td>\n",
       "      <td>0</td>\n",
       "      <td>94</td>\n",
       "      <td>1131.464935</td>\n",
       "    </tr>\n",
       "    <tr>\n",
       "      <th>2</th>\n",
       "      <td>12887.431650</td>\n",
       "      <td>48767</td>\n",
       "      <td>108</td>\n",
       "      <td>566.472247</td>\n",
       "    </tr>\n",
       "    <tr>\n",
       "      <th>3</th>\n",
       "      <td>7645.861827</td>\n",
       "      <td>0</td>\n",
       "      <td>106</td>\n",
       "      <td>529.881344</td>\n",
       "    </tr>\n",
       "    <tr>\n",
       "      <th>4</th>\n",
       "      <td>2813.692575</td>\n",
       "      <td>43836</td>\n",
       "      <td>73</td>\n",
       "      <td>138.130879</td>\n",
       "    </tr>\n",
       "  </tbody>\n",
       "</table>\n",
       "</div>"
      ],
      "text/plain": [
       "   customer_lifetime_value  income  monthly_premium_auto  total_claim_amount\n",
       "0              2763.519279   56274                    69          384.811147\n",
       "1              6979.535903       0                    94         1131.464935\n",
       "2             12887.431650   48767                   108          566.472247\n",
       "3              7645.861827       0                   106          529.881344\n",
       "4              2813.692575   43836                    73          138.130879"
      ]
     },
     "execution_count": 51,
     "metadata": {},
     "output_type": "execute_result"
    }
   ],
   "source": [
    "continuous_df.head()"
   ]
  },
  {
   "cell_type": "markdown",
   "id": "c8ac7bc6",
   "metadata": {},
   "source": [
    "### Plot a correlation matrix, comment what you see.\n",
    "\n"
   ]
  },
  {
   "cell_type": "code",
   "execution_count": 52,
   "id": "a6e07548",
   "metadata": {},
   "outputs": [
    {
     "data": {
      "text/html": [
       "<div>\n",
       "<style scoped>\n",
       "    .dataframe tbody tr th:only-of-type {\n",
       "        vertical-align: middle;\n",
       "    }\n",
       "\n",
       "    .dataframe tbody tr th {\n",
       "        vertical-align: top;\n",
       "    }\n",
       "\n",
       "    .dataframe thead th {\n",
       "        text-align: right;\n",
       "    }\n",
       "</style>\n",
       "<table border=\"1\" class=\"dataframe\">\n",
       "  <thead>\n",
       "    <tr style=\"text-align: right;\">\n",
       "      <th></th>\n",
       "      <th>customer_lifetime_value</th>\n",
       "      <th>income</th>\n",
       "      <th>monthly_premium_auto</th>\n",
       "      <th>months_since_last_claim</th>\n",
       "      <th>months_since_policy_inception</th>\n",
       "      <th>number_of_open_complaints</th>\n",
       "      <th>number_of_policies</th>\n",
       "      <th>total_claim_amount</th>\n",
       "    </tr>\n",
       "  </thead>\n",
       "  <tbody>\n",
       "    <tr>\n",
       "      <th>customer_lifetime_value</th>\n",
       "      <td>1.000000</td>\n",
       "      <td>0.024366</td>\n",
       "      <td>0.396262</td>\n",
       "      <td>0.011517</td>\n",
       "      <td>0.009418</td>\n",
       "      <td>-0.036343</td>\n",
       "      <td>0.021955</td>\n",
       "      <td>0.226451</td>\n",
       "    </tr>\n",
       "    <tr>\n",
       "      <th>income</th>\n",
       "      <td>0.024366</td>\n",
       "      <td>1.000000</td>\n",
       "      <td>-0.016665</td>\n",
       "      <td>-0.026715</td>\n",
       "      <td>-0.000875</td>\n",
       "      <td>0.006408</td>\n",
       "      <td>-0.008656</td>\n",
       "      <td>-0.355254</td>\n",
       "    </tr>\n",
       "    <tr>\n",
       "      <th>monthly_premium_auto</th>\n",
       "      <td>0.396262</td>\n",
       "      <td>-0.016665</td>\n",
       "      <td>1.000000</td>\n",
       "      <td>0.005026</td>\n",
       "      <td>0.020257</td>\n",
       "      <td>-0.013122</td>\n",
       "      <td>-0.011233</td>\n",
       "      <td>0.632017</td>\n",
       "    </tr>\n",
       "    <tr>\n",
       "      <th>months_since_last_claim</th>\n",
       "      <td>0.011517</td>\n",
       "      <td>-0.026715</td>\n",
       "      <td>0.005026</td>\n",
       "      <td>1.000000</td>\n",
       "      <td>-0.042959</td>\n",
       "      <td>0.005354</td>\n",
       "      <td>0.009136</td>\n",
       "      <td>0.007563</td>\n",
       "    </tr>\n",
       "    <tr>\n",
       "      <th>months_since_policy_inception</th>\n",
       "      <td>0.009418</td>\n",
       "      <td>-0.000875</td>\n",
       "      <td>0.020257</td>\n",
       "      <td>-0.042959</td>\n",
       "      <td>1.000000</td>\n",
       "      <td>-0.001158</td>\n",
       "      <td>-0.013333</td>\n",
       "      <td>0.003335</td>\n",
       "    </tr>\n",
       "    <tr>\n",
       "      <th>number_of_open_complaints</th>\n",
       "      <td>-0.036343</td>\n",
       "      <td>0.006408</td>\n",
       "      <td>-0.013122</td>\n",
       "      <td>0.005354</td>\n",
       "      <td>-0.001158</td>\n",
       "      <td>1.000000</td>\n",
       "      <td>0.001498</td>\n",
       "      <td>-0.014241</td>\n",
       "    </tr>\n",
       "    <tr>\n",
       "      <th>number_of_policies</th>\n",
       "      <td>0.021955</td>\n",
       "      <td>-0.008656</td>\n",
       "      <td>-0.011233</td>\n",
       "      <td>0.009136</td>\n",
       "      <td>-0.013333</td>\n",
       "      <td>0.001498</td>\n",
       "      <td>1.000000</td>\n",
       "      <td>-0.002354</td>\n",
       "    </tr>\n",
       "    <tr>\n",
       "      <th>total_claim_amount</th>\n",
       "      <td>0.226451</td>\n",
       "      <td>-0.355254</td>\n",
       "      <td>0.632017</td>\n",
       "      <td>0.007563</td>\n",
       "      <td>0.003335</td>\n",
       "      <td>-0.014241</td>\n",
       "      <td>-0.002354</td>\n",
       "      <td>1.000000</td>\n",
       "    </tr>\n",
       "  </tbody>\n",
       "</table>\n",
       "</div>"
      ],
      "text/plain": [
       "                               customer_lifetime_value    income  \\\n",
       "customer_lifetime_value                       1.000000  0.024366   \n",
       "income                                        0.024366  1.000000   \n",
       "monthly_premium_auto                          0.396262 -0.016665   \n",
       "months_since_last_claim                       0.011517 -0.026715   \n",
       "months_since_policy_inception                 0.009418 -0.000875   \n",
       "number_of_open_complaints                    -0.036343  0.006408   \n",
       "number_of_policies                            0.021955 -0.008656   \n",
       "total_claim_amount                            0.226451 -0.355254   \n",
       "\n",
       "                               monthly_premium_auto  months_since_last_claim  \\\n",
       "customer_lifetime_value                    0.396262                 0.011517   \n",
       "income                                    -0.016665                -0.026715   \n",
       "monthly_premium_auto                       1.000000                 0.005026   \n",
       "months_since_last_claim                    0.005026                 1.000000   \n",
       "months_since_policy_inception              0.020257                -0.042959   \n",
       "number_of_open_complaints                 -0.013122                 0.005354   \n",
       "number_of_policies                        -0.011233                 0.009136   \n",
       "total_claim_amount                         0.632017                 0.007563   \n",
       "\n",
       "                               months_since_policy_inception  \\\n",
       "customer_lifetime_value                             0.009418   \n",
       "income                                             -0.000875   \n",
       "monthly_premium_auto                                0.020257   \n",
       "months_since_last_claim                            -0.042959   \n",
       "months_since_policy_inception                       1.000000   \n",
       "number_of_open_complaints                          -0.001158   \n",
       "number_of_policies                                 -0.013333   \n",
       "total_claim_amount                                  0.003335   \n",
       "\n",
       "                               number_of_open_complaints  number_of_policies  \\\n",
       "customer_lifetime_value                        -0.036343            0.021955   \n",
       "income                                          0.006408           -0.008656   \n",
       "monthly_premium_auto                           -0.013122           -0.011233   \n",
       "months_since_last_claim                         0.005354            0.009136   \n",
       "months_since_policy_inception                  -0.001158           -0.013333   \n",
       "number_of_open_complaints                       1.000000            0.001498   \n",
       "number_of_policies                              0.001498            1.000000   \n",
       "total_claim_amount                             -0.014241           -0.002354   \n",
       "\n",
       "                               total_claim_amount  \n",
       "customer_lifetime_value                  0.226451  \n",
       "income                                  -0.355254  \n",
       "monthly_premium_auto                     0.632017  \n",
       "months_since_last_claim                  0.007563  \n",
       "months_since_policy_inception            0.003335  \n",
       "number_of_open_complaints               -0.014241  \n",
       "number_of_policies                      -0.002354  \n",
       "total_claim_amount                       1.000000  "
      ]
     },
     "execution_count": 52,
     "metadata": {},
     "output_type": "execute_result"
    }
   ],
   "source": [
    "correlations_matrix = customer_df.corr()\n",
    "correlations_matrix"
   ]
  },
  {
   "cell_type": "code",
   "execution_count": 53,
   "id": "260e0ab3",
   "metadata": {},
   "outputs": [
    {
     "data": {
      "image/png": "[encoded data removed]",
      "text/plain": [
       "<Figure size 432x288 with 2 Axes>"
      ]
     },
     "metadata": {
      "needs_background": "light"
     },
     "output_type": "display_data"
    }
   ],
   "source": [
    "import matplotlib.pyplot as plt\n",
    "import seaborn as sns \n",
    "%matplotlib inline \n",
    "sns.heatmap(correlations_matrix, annot=True)\n",
    "plt.show()"
   ]
  },
  {
   "cell_type": "markdown",
   "id": "9873e151",
   "metadata": {},
   "source": [
    "### Create a function to plot every discrete variable. Do the same with the continuous variables (Be Careful, you may need to change the plot type to one better suited for continuous data!)\n",
    "\n"
   ]
  },
  {
   "cell_type": "markdown",
   "id": "eafdad8a",
   "metadata": {},
   "source": [
    "def plot_discrete(table):\n",
    "    for column in table.columns:\n",
    "        sns.barplot(x = column, y = customer_df['total_claim_amount'], data=table)\n",
    "        plt.show() "
   ]
  },
  {
   "cell_type": "markdown",
   "id": "8d32c39c",
   "metadata": {},
   "source": [
    "plot_discrete(discrete_df)"
   ]
  },
  {
   "cell_type": "markdown",
   "id": "3fba4600",
   "metadata": {},
   "source": [
    "def plot_continuous(table):\n",
    "    \n",
    "    for column in table.columns:\n",
    "        table[column].hist(bins=5, legend=True)\n",
    "        plt.show()"
   ]
  },
  {
   "cell_type": "markdown",
   "id": "229eeceb",
   "metadata": {},
   "source": [
    "plot_continuous(continuous_df)"
   ]
  },
  {
   "cell_type": "markdown",
   "id": "93087582",
   "metadata": {},
   "source": [
    "### Comment what you can see in the plots."
   ]
  },
  {
   "cell_type": "markdown",
   "id": "c9e24948",
   "metadata": {},
   "source": [
    "### Look for outliers in the continuous variables. (HINT: There’s a good plot to do that!)\n",
    "\n"
   ]
  },
  {
   "cell_type": "code",
   "execution_count": 54,
   "id": "69b895ca",
   "metadata": {},
   "outputs": [
    {
     "name": "stderr",
     "output_type": "stream",
     "text": [
      "C:\\Users\\franc\\anaconda3\\lib\\site-packages\\seaborn\\_decorators.py:36: FutureWarning: Pass the following variable as a keyword arg: x. From version 0.12, the only valid positional argument will be `data`, and passing other arguments without an explicit keyword will result in an error or misinterpretation.\n",
      "  warnings.warn(\n"
     ]
    },
    {
     "data": {
      "image/png": "[encoded data removed]",
      "text/plain": [
       "<Figure size 432x288 with 1 Axes>"
      ]
     },
     "metadata": {
      "needs_background": "light"
     },
     "output_type": "display_data"
    },
    {
     "name": "stderr",
     "output_type": "stream",
     "text": [
      "C:\\Users\\franc\\anaconda3\\lib\\site-packages\\seaborn\\_decorators.py:36: FutureWarning: Pass the following variable as a keyword arg: x. From version 0.12, the only valid positional argument will be `data`, and passing other arguments without an explicit keyword will result in an error or misinterpretation.\n",
      "  warnings.warn(\n"
     ]
    },
    {
     "data": {
      "image/png": "[encoded data removed]",
      "text/plain": [
       "<Figure size 432x288 with 1 Axes>"
      ]
     },
     "metadata": {
      "needs_background": "light"
     },
     "output_type": "display_data"
    },
    {
     "name": "stderr",
     "output_type": "stream",
     "text": [
      "C:\\Users\\franc\\anaconda3\\lib\\site-packages\\seaborn\\_decorators.py:36: FutureWarning: Pass the following variable as a keyword arg: x. From version 0.12, the only valid positional argument will be `data`, and passing other arguments without an explicit keyword will result in an error or misinterpretation.\n",
      "  warnings.warn(\n"
     ]
    },
    {
     "data": {
      "image/png": "[encoded data removed]",
      "text/plain": [
       "<Figure size 432x288 with 1 Axes>"
      ]
     },
     "metadata": {
      "needs_background": "light"
     },
     "output_type": "display_data"
    },
    {
     "name": "stderr",
     "output_type": "stream",
     "text": [
      "C:\\Users\\franc\\anaconda3\\lib\\site-packages\\seaborn\\_decorators.py:36: FutureWarning: Pass the following variable as a keyword arg: x. From version 0.12, the only valid positional argument will be `data`, and passing other arguments without an explicit keyword will result in an error or misinterpretation.\n",
      "  warnings.warn(\n"
     ]
    },
    {
     "data": {
      "image/png": "[encoded data removed]",
      "text/plain": [
       "<Figure size 432x288 with 1 Axes>"
      ]
     },
     "metadata": {
      "needs_background": "light"
     },
     "output_type": "display_data"
    }
   ],
   "source": [
    "for column in continuous_df.columns:\n",
    "    sns.boxplot(continuous_df[column])\n",
    "    plt.show()"
   ]
  },
  {
   "cell_type": "markdown",
   "id": "866d7f9a",
   "metadata": {},
   "source": [
    "### Did you find outliers? Comment what you will do with them."
   ]
  },
  {
   "cell_type": "code",
   "execution_count": 55,
   "id": "03f236bc",
   "metadata": {},
   "outputs": [],
   "source": [
    "#Dealing with outliers.\n",
    "#1. total_claim_amount is the target, so outliers shouldn't be removed; \n",
    "#2. income does not have outliers; \n",
    "#3. customer_life_value and monthly_premium_auto have a highest number of outliers, \n",
    "# but since those variables have some kind of correlation to the target and between themselves, we should better take a look at how the scalers deal with them first. "
   ]
  },
  {
   "cell_type": "markdown",
   "id": "ea94bb79",
   "metadata": {},
   "source": [
    "### Check all columns for NaN values. Decide what (if anything) you will need to do with them."
   ]
  },
  {
   "cell_type": "code",
   "execution_count": 56,
   "id": "eb54479e",
   "metadata": {},
   "outputs": [
    {
     "data": {
      "text/plain": [
       "customer                         0.0\n",
       "state                            0.0\n",
       "customer_lifetime_value          0.0\n",
       "response                         0.0\n",
       "coverage                         0.0\n",
       "education                        0.0\n",
       "effective_to_date                0.0\n",
       "employmentstatus                 0.0\n",
       "gender                           0.0\n",
       "income                           0.0\n",
       "location_code                    0.0\n",
       "marital_status                   0.0\n",
       "monthly_premium_auto             0.0\n",
       "months_since_last_claim          0.0\n",
       "months_since_policy_inception    0.0\n",
       "number_of_open_complaints        0.0\n",
       "number_of_policies               0.0\n",
       "policy_type                      0.0\n",
       "policy                           0.0\n",
       "renew_offer_type                 0.0\n",
       "sales_channel                    0.0\n",
       "total_claim_amount               0.0\n",
       "vehicle_class                    0.0\n",
       "vehicle_size                     0.0\n",
       "dtype: float64"
      ]
     },
     "execution_count": 56,
     "metadata": {},
     "output_type": "execute_result"
    }
   ],
   "source": [
    "customer_df.isnull().sum()/len(customer_df) #No Nans"
   ]
  },
  {
   "cell_type": "code",
   "execution_count": null,
   "id": "fba09f9e",
   "metadata": {},
   "outputs": [],
   "source": []
  },
  {
   "cell_type": "markdown",
   "id": "78f288c4",
   "metadata": {},
   "source": [
    "# Lab 4.05"
   ]
  },
  {
   "cell_type": "code",
   "execution_count": 57,
   "id": "38eed259",
   "metadata": {},
   "outputs": [
    {
     "data": {
      "text/html": [
       "<div>\n",
       "<style scoped>\n",
       "    .dataframe tbody tr th:only-of-type {\n",
       "        vertical-align: middle;\n",
       "    }\n",
       "\n",
       "    .dataframe tbody tr th {\n",
       "        vertical-align: top;\n",
       "    }\n",
       "\n",
       "    .dataframe thead th {\n",
       "        text-align: right;\n",
       "    }\n",
       "</style>\n",
       "<table border=\"1\" class=\"dataframe\">\n",
       "  <thead>\n",
       "    <tr style=\"text-align: right;\">\n",
       "      <th></th>\n",
       "      <th>state</th>\n",
       "      <th>response</th>\n",
       "      <th>coverage</th>\n",
       "      <th>education</th>\n",
       "      <th>effective_to_date</th>\n",
       "      <th>employmentstatus</th>\n",
       "      <th>gender</th>\n",
       "      <th>location_code</th>\n",
       "      <th>marital_status</th>\n",
       "      <th>policy_type</th>\n",
       "      <th>policy</th>\n",
       "      <th>renew_offer_type</th>\n",
       "      <th>sales_channel</th>\n",
       "      <th>vehicle_class</th>\n",
       "      <th>vehicle_size</th>\n",
       "    </tr>\n",
       "  </thead>\n",
       "  <tbody>\n",
       "    <tr>\n",
       "      <th>0</th>\n",
       "      <td>Washington</td>\n",
       "      <td>No</td>\n",
       "      <td>Basic</td>\n",
       "      <td>Undergraduate</td>\n",
       "      <td>24022011</td>\n",
       "      <td>Retired</td>\n",
       "      <td>F</td>\n",
       "      <td>Suburban</td>\n",
       "      <td>Married</td>\n",
       "      <td>Corporate Auto</td>\n",
       "      <td>3</td>\n",
       "      <td>1</td>\n",
       "      <td>Agent</td>\n",
       "      <td>Two-Door Car</td>\n",
       "      <td>Medsize</td>\n",
       "    </tr>\n",
       "    <tr>\n",
       "      <th>1</th>\n",
       "      <td>Arizona</td>\n",
       "      <td>No</td>\n",
       "      <td>Extended</td>\n",
       "      <td>Undergraduate</td>\n",
       "      <td>31012011</td>\n",
       "      <td>Retired</td>\n",
       "      <td>F</td>\n",
       "      <td>Suburban</td>\n",
       "      <td>Single</td>\n",
       "      <td>Personal Auto</td>\n",
       "      <td>3</td>\n",
       "      <td>3</td>\n",
       "      <td>Agent</td>\n",
       "      <td>Four-Door Car</td>\n",
       "      <td>Medsize</td>\n",
       "    </tr>\n",
       "    <tr>\n",
       "      <th>2</th>\n",
       "      <td>Nevada</td>\n",
       "      <td>No</td>\n",
       "      <td>Premium</td>\n",
       "      <td>Undergraduate</td>\n",
       "      <td>19022011</td>\n",
       "      <td>Retired</td>\n",
       "      <td>F</td>\n",
       "      <td>Suburban</td>\n",
       "      <td>Married</td>\n",
       "      <td>Personal Auto</td>\n",
       "      <td>3</td>\n",
       "      <td>1</td>\n",
       "      <td>Agent</td>\n",
       "      <td>Two-Door Car</td>\n",
       "      <td>Medsize</td>\n",
       "    </tr>\n",
       "    <tr>\n",
       "      <th>3</th>\n",
       "      <td>California</td>\n",
       "      <td>No</td>\n",
       "      <td>Basic</td>\n",
       "      <td>Undergraduate</td>\n",
       "      <td>20012011</td>\n",
       "      <td>Retired</td>\n",
       "      <td>M</td>\n",
       "      <td>Suburban</td>\n",
       "      <td>Married</td>\n",
       "      <td>Corporate Auto</td>\n",
       "      <td>2</td>\n",
       "      <td>1</td>\n",
       "      <td>Call Center</td>\n",
       "      <td>SUV</td>\n",
       "      <td>Medsize</td>\n",
       "    </tr>\n",
       "    <tr>\n",
       "      <th>4</th>\n",
       "      <td>Washington</td>\n",
       "      <td>No</td>\n",
       "      <td>Basic</td>\n",
       "      <td>Undergraduate</td>\n",
       "      <td>3022011</td>\n",
       "      <td>Retired</td>\n",
       "      <td>M</td>\n",
       "      <td>Rural</td>\n",
       "      <td>Single</td>\n",
       "      <td>Personal Auto</td>\n",
       "      <td>1</td>\n",
       "      <td>1</td>\n",
       "      <td>Agent</td>\n",
       "      <td>Four-Door Car</td>\n",
       "      <td>Medsize</td>\n",
       "    </tr>\n",
       "  </tbody>\n",
       "</table>\n",
       "</div>"
      ],
      "text/plain": [
       "        state response  coverage      education  effective_to_date  \\\n",
       "0  Washington       No     Basic  Undergraduate           24022011   \n",
       "1     Arizona       No  Extended  Undergraduate           31012011   \n",
       "2      Nevada       No   Premium  Undergraduate           19022011   \n",
       "3  California       No     Basic  Undergraduate           20012011   \n",
       "4  Washington       No     Basic  Undergraduate            3022011   \n",
       "\n",
       "  employmentstatus gender location_code marital_status     policy_type policy  \\\n",
       "0          Retired      F      Suburban        Married  Corporate Auto      3   \n",
       "1          Retired      F      Suburban         Single   Personal Auto      3   \n",
       "2          Retired      F      Suburban        Married   Personal Auto      3   \n",
       "3          Retired      M      Suburban        Married  Corporate Auto      2   \n",
       "4          Retired      M         Rural         Single   Personal Auto      1   \n",
       "\n",
       "  renew_offer_type sales_channel  vehicle_class vehicle_size  \n",
       "0                1         Agent   Two-Door Car      Medsize  \n",
       "1                3         Agent  Four-Door Car      Medsize  \n",
       "2                1         Agent   Two-Door Car      Medsize  \n",
       "3                1   Call Center            SUV      Medsize  \n",
       "4                1         Agent  Four-Door Car      Medsize  "
      ]
     },
     "metadata": {},
     "output_type": "display_data"
    },
    {
     "data": {
      "text/html": [
       "<div>\n",
       "<style scoped>\n",
       "    .dataframe tbody tr th:only-of-type {\n",
       "        vertical-align: middle;\n",
       "    }\n",
       "\n",
       "    .dataframe tbody tr th {\n",
       "        vertical-align: top;\n",
       "    }\n",
       "\n",
       "    .dataframe thead th {\n",
       "        text-align: right;\n",
       "    }\n",
       "</style>\n",
       "<table border=\"1\" class=\"dataframe\">\n",
       "  <thead>\n",
       "    <tr style=\"text-align: right;\">\n",
       "      <th></th>\n",
       "      <th>customer_lifetime_value</th>\n",
       "      <th>income</th>\n",
       "      <th>monthly_premium_auto</th>\n",
       "      <th>months_since_last_claim</th>\n",
       "      <th>months_since_policy_inception</th>\n",
       "      <th>number_of_open_complaints</th>\n",
       "      <th>number_of_policies</th>\n",
       "      <th>total_claim_amount</th>\n",
       "    </tr>\n",
       "  </thead>\n",
       "  <tbody>\n",
       "    <tr>\n",
       "      <th>0</th>\n",
       "      <td>2763.519279</td>\n",
       "      <td>56274</td>\n",
       "      <td>69</td>\n",
       "      <td>32</td>\n",
       "      <td>5</td>\n",
       "      <td>0</td>\n",
       "      <td>1</td>\n",
       "      <td>384.811147</td>\n",
       "    </tr>\n",
       "    <tr>\n",
       "      <th>1</th>\n",
       "      <td>6979.535903</td>\n",
       "      <td>0</td>\n",
       "      <td>94</td>\n",
       "      <td>13</td>\n",
       "      <td>42</td>\n",
       "      <td>0</td>\n",
       "      <td>8</td>\n",
       "      <td>1131.464935</td>\n",
       "    </tr>\n",
       "    <tr>\n",
       "      <th>2</th>\n",
       "      <td>12887.431650</td>\n",
       "      <td>48767</td>\n",
       "      <td>108</td>\n",
       "      <td>18</td>\n",
       "      <td>38</td>\n",
       "      <td>0</td>\n",
       "      <td>2</td>\n",
       "      <td>566.472247</td>\n",
       "    </tr>\n",
       "    <tr>\n",
       "      <th>3</th>\n",
       "      <td>7645.861827</td>\n",
       "      <td>0</td>\n",
       "      <td>106</td>\n",
       "      <td>18</td>\n",
       "      <td>65</td>\n",
       "      <td>0</td>\n",
       "      <td>7</td>\n",
       "      <td>529.881344</td>\n",
       "    </tr>\n",
       "    <tr>\n",
       "      <th>4</th>\n",
       "      <td>2813.692575</td>\n",
       "      <td>43836</td>\n",
       "      <td>73</td>\n",
       "      <td>12</td>\n",
       "      <td>44</td>\n",
       "      <td>0</td>\n",
       "      <td>1</td>\n",
       "      <td>138.130879</td>\n",
       "    </tr>\n",
       "  </tbody>\n",
       "</table>\n",
       "</div>"
      ],
      "text/plain": [
       "   customer_lifetime_value  income  monthly_premium_auto  \\\n",
       "0              2763.519279   56274                    69   \n",
       "1              6979.535903       0                    94   \n",
       "2             12887.431650   48767                   108   \n",
       "3              7645.861827       0                   106   \n",
       "4              2813.692575   43836                    73   \n",
       "\n",
       "   months_since_last_claim  months_since_policy_inception  \\\n",
       "0                       32                              5   \n",
       "1                       13                             42   \n",
       "2                       18                             38   \n",
       "3                       18                             65   \n",
       "4                       12                             44   \n",
       "\n",
       "   number_of_open_complaints  number_of_policies  total_claim_amount  \n",
       "0                          0                   1          384.811147  \n",
       "1                          0                   8         1131.464935  \n",
       "2                          0                   2          566.472247  \n",
       "3                          0                   7          529.881344  \n",
       "4                          0                   1          138.130879  "
      ]
     },
     "metadata": {},
     "output_type": "display_data"
    }
   ],
   "source": [
    "display(categorical_df.head()) # cleaned categorical data\n",
    "display(customer_df_num.head()) # numerical data"
   ]
  },
  {
   "cell_type": "markdown",
   "id": "36280442",
   "metadata": {},
   "source": [
    "Import sklearn train_test_split and separate the data."
   ]
  },
  {
   "cell_type": "code",
   "execution_count": 58,
   "id": "8cc10db4",
   "metadata": {},
   "outputs": [],
   "source": [
    "data = pd.concat([categorical_df, customer_df_num], axis=1)\n",
    "y = data['total_claim_amount']\n",
    "X = data.drop(['total_claim_amount'], axis=1)"
   ]
  },
  {
   "cell_type": "code",
   "execution_count": 59,
   "id": "fd080aaf",
   "metadata": {},
   "outputs": [],
   "source": [
    "X_train, X_test, y_train, y_test = train_test_split(X, y, random_state=100)"
   ]
  },
  {
   "cell_type": "code",
   "execution_count": 101,
   "id": "b9ae2c85",
   "metadata": {},
   "outputs": [
    {
     "data": {
      "text/plain": [
       "(6850, 8)"
      ]
     },
     "execution_count": 101,
     "metadata": {},
     "output_type": "execute_result"
    }
   ],
   "source": [
    "X_train_num = X_train.select_dtypes(include = np.number).copy()\n",
    "X_train_cat = X_train.select_dtypes(include = object).copy()"
   ]
  },
  {
   "cell_type": "markdown",
   "id": "59c6ab0c",
   "metadata": {},
   "source": [
    "We will start with removing outliers, if you have not already done so. We have discussed different methods to \n",
    "remove outliers. Use the one you feel more comfortable with, define a function for that. Use the function to remove the outliers and apply it to the dataframe. Create a copy of the dataframe for the data wrangling.\n",
    "\n",
    "-- I chose not to remove outliers from continuous variables in the previous lab, but here's the function to compare results later.\n",
    "\n",
    "--First, create a copy of the dataframe and get continuous data from X_train:\n",
    "\n",
    "X_train_continuous_df = continuous(X_train_num)\n",
    "\n",
    "def remove_outliers(x):\n",
    "    for column in x.columns:\n",
    "        iqr = np.percentile(x[column],75) - np.percentile(x[column],25)\n",
    "        upper_limit = np.percentile(x[column],75) + 1.5*iqr\n",
    "        lower_limit = np.percentile(x[column],25) - 1.5*iqr\n",
    "        x = x[(x[column]>lower_limit) & (x[column]<upper_limit)]\n",
    "    return x\n",
    "    \n",
    "remove_outliers(X_train_continuous_df)"
   ]
  },
  {
   "cell_type": "markdown",
   "id": "ae5dac87",
   "metadata": {},
   "source": [
    "Normalize the continuous variables. You can use any one method you want."
   ]
  },
  {
   "cell_type": "markdown",
   "id": "c2fe7fa8",
   "metadata": {},
   "source": [
    "#Split X_train between continuous and discrete\n",
    "\n",
    "X_train_continuous = continuous(X_train_num)\n",
    "X_train_discrete = discrete(X_train_num)\n",
    "\n",
    "def log_transfom_clean(x): \n",
    "    x = np.log10(x) \n",
    "    if np.isfinite(x): \n",
    "        return x \n",
    "    else: \n",
    "        return np.NAN"
   ]
  },
  {
   "cell_type": "code",
   "execution_count": 102,
   "id": "180f8f70",
   "metadata": {},
   "outputs": [
    {
     "data": {
      "text/plain": [
       "(6850, 8)"
      ]
     },
     "execution_count": 102,
     "metadata": {},
     "output_type": "execute_result"
    }
   ],
   "source": [
    "transformer = StandardScaler().fit(X_train_num)\n",
    "x_standardized = transformer.transform(X_train_num)\n",
    "x_standardized = pd.DataFrame(x_standardized, columns= X_train_num.columns)"
   ]
  },
  {
   "cell_type": "markdown",
   "id": "059e6227",
   "metadata": {},
   "source": [
    "Encode the categorical variables (See the hint below for encoding categorical data!!!) You should deal with the categorical variables as shown below (for ordinal encoding, dummy code has been provided as well):\n",
    "\n",
    "Encoder Type\tColumn\n",
    "One hot\tstate\n",
    "Ordinal\tcoverage\n",
    "Ordinal\temploymentstatus\n",
    "Ordinal\tlocation code\n",
    "One hot\tmarital status\n",
    "One hot\tpolicy type\n",
    "One hot\tpolicy\n",
    "One hot\trenew offercustomer_df\n",
    "One hot\tsales channel\n",
    "One hot\tvehicle class\n",
    "Ordinal\tvehicle size\n",
    "Dummy code\n",
    "data[\"coverage\"] = data[\"coverage\"].map({\"Basic\" : 0, \"Extended\" : 1, \"Premium\" : 2})\n",
    "\n",
    "given that column \"coverage\" in the dataframe \"data\" has three categories:\n",
    "\n",
    "\"basic\", \"extended\", and \"premium\" and values are to be represented in the same order."
   ]
  },
  {
   "cell_type": "code",
   "execution_count": 62,
   "id": "029c4b4f",
   "metadata": {},
   "outputs": [],
   "source": [
    "X_train_onehot = X_train_cat.drop(['vehicle_size','location_code', 'employmentstatus', 'coverage'], axis=1)\n",
    "#could have ordinalencoded education as well."
   ]
  },
  {
   "cell_type": "code",
   "execution_count": 63,
   "id": "6c3b83d9",
   "metadata": {},
   "outputs": [
    {
     "name": "stderr",
     "output_type": "stream",
     "text": [
      "C:\\Users\\franc\\anaconda3\\lib\\site-packages\\sklearn\\utils\\deprecation.py:87: FutureWarning: Function get_feature_names is deprecated; get_feature_names is deprecated in 1.0 and will be removed in 1.2. Please use get_feature_names_out instead.\n",
      "  warnings.warn(msg, category=FutureWarning)\n"
     ]
    },
    {
     "data": {
      "text/html": [
       "<div>\n",
       "<style scoped>\n",
       "    .dataframe tbody tr th:only-of-type {\n",
       "        vertical-align: middle;\n",
       "    }\n",
       "\n",
       "    .dataframe tbody tr th {\n",
       "        vertical-align: top;\n",
       "    }\n",
       "\n",
       "    .dataframe thead th {\n",
       "        text-align: right;\n",
       "    }\n",
       "</style>\n",
       "<table border=\"1\" class=\"dataframe\">\n",
       "  <thead>\n",
       "    <tr style=\"text-align: right;\">\n",
       "      <th></th>\n",
       "      <th>state_California</th>\n",
       "      <th>state_Nevada</th>\n",
       "      <th>state_Oregon</th>\n",
       "      <th>state_Washington</th>\n",
       "      <th>response_Yes</th>\n",
       "      <th>education_Postgraduate</th>\n",
       "      <th>education_Undergraduate</th>\n",
       "      <th>gender_M</th>\n",
       "      <th>marital_status_Married</th>\n",
       "      <th>marital_status_Single</th>\n",
       "      <th>...</th>\n",
       "      <th>policy_3</th>\n",
       "      <th>renew_offer_type_2</th>\n",
       "      <th>renew_offer_type_3</th>\n",
       "      <th>renew_offer_type_4</th>\n",
       "      <th>sales_channel_Branch</th>\n",
       "      <th>sales_channel_Call Center</th>\n",
       "      <th>sales_channel_Web</th>\n",
       "      <th>vehicle_class_Luxury</th>\n",
       "      <th>vehicle_class_SUV</th>\n",
       "      <th>vehicle_class_Two-Door Car</th>\n",
       "    </tr>\n",
       "  </thead>\n",
       "  <tbody>\n",
       "    <tr>\n",
       "      <th>0</th>\n",
       "      <td>0.0</td>\n",
       "      <td>0.0</td>\n",
       "      <td>1.0</td>\n",
       "      <td>0.0</td>\n",
       "      <td>0.0</td>\n",
       "      <td>0.0</td>\n",
       "      <td>1.0</td>\n",
       "      <td>1.0</td>\n",
       "      <td>0.0</td>\n",
       "      <td>1.0</td>\n",
       "      <td>...</td>\n",
       "      <td>1.0</td>\n",
       "      <td>1.0</td>\n",
       "      <td>0.0</td>\n",
       "      <td>0.0</td>\n",
       "      <td>0.0</td>\n",
       "      <td>0.0</td>\n",
       "      <td>0.0</td>\n",
       "      <td>0.0</td>\n",
       "      <td>0.0</td>\n",
       "      <td>1.0</td>\n",
       "    </tr>\n",
       "    <tr>\n",
       "      <th>1</th>\n",
       "      <td>0.0</td>\n",
       "      <td>0.0</td>\n",
       "      <td>1.0</td>\n",
       "      <td>0.0</td>\n",
       "      <td>0.0</td>\n",
       "      <td>0.0</td>\n",
       "      <td>1.0</td>\n",
       "      <td>0.0</td>\n",
       "      <td>0.0</td>\n",
       "      <td>1.0</td>\n",
       "      <td>...</td>\n",
       "      <td>1.0</td>\n",
       "      <td>1.0</td>\n",
       "      <td>0.0</td>\n",
       "      <td>0.0</td>\n",
       "      <td>1.0</td>\n",
       "      <td>0.0</td>\n",
       "      <td>0.0</td>\n",
       "      <td>0.0</td>\n",
       "      <td>0.0</td>\n",
       "      <td>1.0</td>\n",
       "    </tr>\n",
       "    <tr>\n",
       "      <th>2</th>\n",
       "      <td>0.0</td>\n",
       "      <td>0.0</td>\n",
       "      <td>0.0</td>\n",
       "      <td>0.0</td>\n",
       "      <td>0.0</td>\n",
       "      <td>0.0</td>\n",
       "      <td>1.0</td>\n",
       "      <td>0.0</td>\n",
       "      <td>1.0</td>\n",
       "      <td>0.0</td>\n",
       "      <td>...</td>\n",
       "      <td>0.0</td>\n",
       "      <td>0.0</td>\n",
       "      <td>0.0</td>\n",
       "      <td>0.0</td>\n",
       "      <td>0.0</td>\n",
       "      <td>0.0</td>\n",
       "      <td>0.0</td>\n",
       "      <td>0.0</td>\n",
       "      <td>0.0</td>\n",
       "      <td>0.0</td>\n",
       "    </tr>\n",
       "    <tr>\n",
       "      <th>3</th>\n",
       "      <td>0.0</td>\n",
       "      <td>1.0</td>\n",
       "      <td>0.0</td>\n",
       "      <td>0.0</td>\n",
       "      <td>0.0</td>\n",
       "      <td>0.0</td>\n",
       "      <td>1.0</td>\n",
       "      <td>0.0</td>\n",
       "      <td>1.0</td>\n",
       "      <td>0.0</td>\n",
       "      <td>...</td>\n",
       "      <td>1.0</td>\n",
       "      <td>0.0</td>\n",
       "      <td>0.0</td>\n",
       "      <td>0.0</td>\n",
       "      <td>1.0</td>\n",
       "      <td>0.0</td>\n",
       "      <td>0.0</td>\n",
       "      <td>0.0</td>\n",
       "      <td>0.0</td>\n",
       "      <td>0.0</td>\n",
       "    </tr>\n",
       "    <tr>\n",
       "      <th>4</th>\n",
       "      <td>1.0</td>\n",
       "      <td>0.0</td>\n",
       "      <td>0.0</td>\n",
       "      <td>0.0</td>\n",
       "      <td>0.0</td>\n",
       "      <td>0.0</td>\n",
       "      <td>1.0</td>\n",
       "      <td>1.0</td>\n",
       "      <td>1.0</td>\n",
       "      <td>0.0</td>\n",
       "      <td>...</td>\n",
       "      <td>1.0</td>\n",
       "      <td>0.0</td>\n",
       "      <td>0.0</td>\n",
       "      <td>0.0</td>\n",
       "      <td>1.0</td>\n",
       "      <td>0.0</td>\n",
       "      <td>0.0</td>\n",
       "      <td>0.0</td>\n",
       "      <td>0.0</td>\n",
       "      <td>1.0</td>\n",
       "    </tr>\n",
       "  </tbody>\n",
       "</table>\n",
       "<p>5 rows × 23 columns</p>\n",
       "</div>"
      ],
      "text/plain": [
       "   state_California  state_Nevada  state_Oregon  state_Washington  \\\n",
       "0               0.0           0.0           1.0               0.0   \n",
       "1               0.0           0.0           1.0               0.0   \n",
       "2               0.0           0.0           0.0               0.0   \n",
       "3               0.0           1.0           0.0               0.0   \n",
       "4               1.0           0.0           0.0               0.0   \n",
       "\n",
       "   response_Yes  education_Postgraduate  education_Undergraduate  gender_M  \\\n",
       "0           0.0                     0.0                      1.0       1.0   \n",
       "1           0.0                     0.0                      1.0       0.0   \n",
       "2           0.0                     0.0                      1.0       0.0   \n",
       "3           0.0                     0.0                      1.0       0.0   \n",
       "4           0.0                     0.0                      1.0       1.0   \n",
       "\n",
       "   marital_status_Married  marital_status_Single  ...  policy_3  \\\n",
       "0                     0.0                    1.0  ...       1.0   \n",
       "1                     0.0                    1.0  ...       1.0   \n",
       "2                     1.0                    0.0  ...       0.0   \n",
       "3                     1.0                    0.0  ...       1.0   \n",
       "4                     1.0                    0.0  ...       1.0   \n",
       "\n",
       "   renew_offer_type_2  renew_offer_type_3  renew_offer_type_4  \\\n",
       "0                 1.0                 0.0                 0.0   \n",
       "1                 1.0                 0.0                 0.0   \n",
       "2                 0.0                 0.0                 0.0   \n",
       "3                 0.0                 0.0                 0.0   \n",
       "4                 0.0                 0.0                 0.0   \n",
       "\n",
       "   sales_channel_Branch  sales_channel_Call Center  sales_channel_Web  \\\n",
       "0                   0.0                        0.0                0.0   \n",
       "1                   1.0                        0.0                0.0   \n",
       "2                   0.0                        0.0                0.0   \n",
       "3                   1.0                        0.0                0.0   \n",
       "4                   1.0                        0.0                0.0   \n",
       "\n",
       "   vehicle_class_Luxury  vehicle_class_SUV  vehicle_class_Two-Door Car  \n",
       "0                   0.0                0.0                         1.0  \n",
       "1                   0.0                0.0                         1.0  \n",
       "2                   0.0                0.0                         0.0  \n",
       "3                   0.0                0.0                         0.0  \n",
       "4                   0.0                0.0                         1.0  \n",
       "\n",
       "[5 rows x 23 columns]"
      ]
     },
     "execution_count": 63,
     "metadata": {},
     "output_type": "execute_result"
    }
   ],
   "source": [
    "encoder = OneHotEncoder(drop='first').fit(X_train_onehot)\n",
    "encoded = encoder.transform(X_train_onehot).toarray()\n",
    "cols = encoder.get_feature_names(input_features=X_train_onehot.columns)\n",
    "onehot_encoded = pd.DataFrame(encoded, columns=cols)\n",
    "onehot_encoded.head()"
   ]
  },
  {
   "cell_type": "code",
   "execution_count": 64,
   "id": "a9917e3a",
   "metadata": {},
   "outputs": [],
   "source": [
    "X_train_ordinal = X_train_cat.drop(X_train_onehot, axis=1)"
   ]
  },
  {
   "cell_type": "code",
   "execution_count": 65,
   "id": "0f700fb3",
   "metadata": {},
   "outputs": [],
   "source": [
    "#X_train_ordinal.apply(pd.Series.unique)"
   ]
  },
  {
   "cell_type": "code",
   "execution_count": 66,
   "id": "f1083de7",
   "metadata": {},
   "outputs": [],
   "source": [
    "X_train_ordinal[\"coverage\"] = X_train_ordinal[\"coverage\"].map({\"Basic\" : 0, \"Extended\" : 1, \"Premium\" : 2})\n",
    "X_train_ordinal[\"employmentstatus\"] = X_train_ordinal[\"employmentstatus\"].map({\"Retired\" : 0, \"Unemployed\" : 1, \"Employed\" : 1})\n",
    "X_train_ordinal[\"location_code\"] = X_train_ordinal[\"location_code\"].map({\"Rural\" : 0, \"Suburban\" : 1, \"Urban\" : 2})\n",
    "X_train_ordinal[\"vehicle_size\"] = X_train_ordinal[\"vehicle_size\"].map({\"Small\" : 0, \"Medsize\" : 1, \"Large\" : 2})"
   ]
  },
  {
   "cell_type": "code",
   "execution_count": 67,
   "id": "f130634a",
   "metadata": {},
   "outputs": [],
   "source": [
    "X_train_ordinal = X_train_ordinal.reset_index()\n",
    "onehot_encoded = onehot_encoded.reset_index()\n",
    "x_standardized = x_standardized.reset_index()\n",
    "#X_train_continuous = X_train_continuous.reset_index()\n",
    "#X_train_discrete = X_train_discrete.reset_index()"
   ]
  },
  {
   "cell_type": "markdown",
   "id": "90372dd2",
   "metadata": {},
   "source": [
    "The time variable can be useful. Try to transform its data into a useful one. Hint: Day week and month as integers might be useful. #Done in lab 4.02"
   ]
  },
  {
   "cell_type": "markdown",
   "id": "1499b393",
   "metadata": {},
   "source": [
    "Since the model will only accept numerical data, check and make sure that every column is numerical, if some are not, change it using encoding."
   ]
  },
  {
   "cell_type": "code",
   "execution_count": 104,
   "id": "1ed103e2",
   "metadata": {},
   "outputs": [
    {
     "data": {
      "text/plain": [
       "(6850, 5)"
      ]
     },
     "metadata": {},
     "output_type": "display_data"
    },
    {
     "data": {
      "text/plain": [
       "(6850, 24)"
      ]
     },
     "metadata": {},
     "output_type": "display_data"
    },
    {
     "data": {
      "text/plain": [
       "(6850, 8)"
      ]
     },
     "metadata": {},
     "output_type": "display_data"
    }
   ],
   "source": [
    "display(X_train_ordinal.shape)\n",
    "display(onehot_encoded.shape)\n",
    "display(x_standardized.shape)\n",
    "#display(X_train_continuous.head())\n",
    "#display(X_train_discrete.head())"
   ]
  },
  {
   "cell_type": "code",
   "execution_count": 105,
   "id": "44c68904",
   "metadata": {},
   "outputs": [],
   "source": [
    "X_train_over = pd.concat([X_train_ordinal,onehot_encoded,x_standardized],axis=1)"
   ]
  },
  {
   "cell_type": "code",
   "execution_count": 106,
   "id": "2f904c8e",
   "metadata": {},
   "outputs": [
    {
     "data": {
      "text/plain": [
       "(6850, 37)"
      ]
     },
     "execution_count": 106,
     "metadata": {},
     "output_type": "execute_result"
    }
   ],
   "source": [
    "X_train_over.shape\n"
   ]
  },
  {
   "cell_type": "code",
   "execution_count": 107,
   "id": "a30ab842",
   "metadata": {},
   "outputs": [
    {
     "data": {
      "text/plain": [
       "index                            0\n",
       "coverage                         0\n",
       "employmentstatus                 0\n",
       "location_code                    0\n",
       "vehicle_size                     0\n",
       "index                            0\n",
       "state_California                 0\n",
       "state_Nevada                     0\n",
       "state_Oregon                     0\n",
       "state_Washington                 0\n",
       "response_Yes                     0\n",
       "education_Postgraduate           0\n",
       "education_Undergraduate          0\n",
       "gender_M                         0\n",
       "marital_status_Married           0\n",
       "marital_status_Single            0\n",
       "policy_type_Personal Auto        0\n",
       "policy_type_Special Auto         0\n",
       "policy_2                         0\n",
       "policy_3                         0\n",
       "renew_offer_type_2               0\n",
       "renew_offer_type_3               0\n",
       "renew_offer_type_4               0\n",
       "sales_channel_Branch             0\n",
       "sales_channel_Call Center        0\n",
       "sales_channel_Web                0\n",
       "vehicle_class_Luxury             0\n",
       "vehicle_class_SUV                0\n",
       "vehicle_class_Two-Door Car       0\n",
       "effective_to_date                0\n",
       "customer_lifetime_value          0\n",
       "income                           0\n",
       "monthly_premium_auto             0\n",
       "months_since_last_claim          0\n",
       "months_since_policy_inception    0\n",
       "number_of_open_complaints        0\n",
       "number_of_policies               0\n",
       "dtype: int64"
      ]
     },
     "execution_count": 107,
     "metadata": {},
     "output_type": "execute_result"
    }
   ],
   "source": [
    "X_train_over.isna().sum()"
   ]
  },
  {
   "cell_type": "markdown",
   "id": "39633254",
   "metadata": {},
   "source": [
    "Try a simple linear regression with all the data to see whether we are getting good results."
   ]
  },
  {
   "cell_type": "code",
   "execution_count": 108,
   "id": "b0ab4287",
   "metadata": {},
   "outputs": [
    {
     "data": {
      "text/plain": [
       "LinearRegression()"
      ]
     },
     "execution_count": 108,
     "metadata": {},
     "output_type": "execute_result"
    }
   ],
   "source": [
    "lm = linear_model.LinearRegression()\n",
    "lm.fit(X_train_over,y_train)"
   ]
  },
  {
   "cell_type": "code",
   "execution_count": 109,
   "id": "82e44b4f",
   "metadata": {},
   "outputs": [
    {
     "data": {
      "text/plain": [
       "0.6235799377536564"
      ]
     },
     "execution_count": 109,
     "metadata": {},
     "output_type": "execute_result"
    }
   ],
   "source": [
    "score = lm.score(X_train_over, y_train)\n",
    "score"
   ]
  },
  {
   "cell_type": "code",
   "execution_count": 110,
   "id": "d6c52b48",
   "metadata": {},
   "outputs": [],
   "source": [
    "#Dealing with X_test\n",
    "X_test_num = X_test.select_dtypes(include = np.number).copy()\n",
    "X_test_cat = X_test.select_dtypes(include = object).copy()\n",
    "\n",
    "#Split X_test between continuous and discrete\n",
    "#X_test_continuous = continuous(X_test_num)\n",
    "#X_test_discrete = discrete(X_test_num)"
   ]
  },
  {
   "cell_type": "code",
   "execution_count": 111,
   "id": "6aaaa48a",
   "metadata": {
    "scrolled": true
   },
   "outputs": [
    {
     "data": {
      "text/plain": [
       "(2284, 8)"
      ]
     },
     "execution_count": 111,
     "metadata": {},
     "output_type": "execute_result"
    }
   ],
   "source": [
    "x_standardized_test = transformer.transform(X_test_num)\n",
    "x_standardized_test = pd.DataFrame(x_standardized_test, columns= X_train_num.columns)\n",
    "x_standardized_test.shape"
   ]
  },
  {
   "cell_type": "markdown",
   "id": "54330325",
   "metadata": {},
   "source": [
    "Encode the categorical variables (See the hint below for encoding categorical data!!!) You should deal with the categorical variables as shown below (for ordinal encoding, dummy code has been provided as well):\n",
    "\n",
    "Encoder Type\tColumn\n",
    "One hot\tstate\n",
    "Ordinal\tcoverage\n",
    "Ordinal\temploymentstatus\n",
    "Ordinal\tlocation code\n",
    "One hot\tmarital status\n",
    "One hot\tpolicy type\n",
    "One hot\tpolicy\n",
    "One hot\trenew offercustomer_df\n",
    "One hot\tsales channel\n",
    "One hot\tvehicle class\n",
    "Ordinal\tvehicle size\n",
    "Dummy code\n",
    "data[\"coverage\"] = data[\"coverage\"].map({\"Basic\" : 0, \"Extended\" : 1, \"Premium\" : 2})\n",
    "\n",
    "given that column \"coverage\" in the dataframe \"data\" has three categories:\n",
    "\n",
    "\"basic\", \"extended\", and \"premium\" and values are to be represented in the same order."
   ]
  },
  {
   "cell_type": "code",
   "execution_count": 112,
   "id": "02d266e4",
   "metadata": {},
   "outputs": [],
   "source": [
    "X_test_onehot = X_test_cat.drop(['vehicle_size','location_code', 'employmentstatus', 'coverage'], axis=1)"
   ]
  },
  {
   "cell_type": "code",
   "execution_count": 113,
   "id": "7cec28cd",
   "metadata": {},
   "outputs": [
    {
     "name": "stderr",
     "output_type": "stream",
     "text": [
      "C:\\Users\\franc\\anaconda3\\lib\\site-packages\\sklearn\\utils\\deprecation.py:87: FutureWarning: Function get_feature_names is deprecated; get_feature_names is deprecated in 1.0 and will be removed in 1.2. Please use get_feature_names_out instead.\n",
      "  warnings.warn(msg, category=FutureWarning)\n"
     ]
    },
    {
     "data": {
      "text/html": [
       "<div>\n",
       "<style scoped>\n",
       "    .dataframe tbody tr th:only-of-type {\n",
       "        vertical-align: middle;\n",
       "    }\n",
       "\n",
       "    .dataframe tbody tr th {\n",
       "        vertical-align: top;\n",
       "    }\n",
       "\n",
       "    .dataframe thead th {\n",
       "        text-align: right;\n",
       "    }\n",
       "</style>\n",
       "<table border=\"1\" class=\"dataframe\">\n",
       "  <thead>\n",
       "    <tr style=\"text-align: right;\">\n",
       "      <th></th>\n",
       "      <th>state_California</th>\n",
       "      <th>state_Nevada</th>\n",
       "      <th>state_Oregon</th>\n",
       "      <th>state_Washington</th>\n",
       "      <th>response_Yes</th>\n",
       "      <th>education_Postgraduate</th>\n",
       "      <th>education_Undergraduate</th>\n",
       "      <th>gender_M</th>\n",
       "      <th>marital_status_Married</th>\n",
       "      <th>marital_status_Single</th>\n",
       "      <th>...</th>\n",
       "      <th>policy_3</th>\n",
       "      <th>renew_offer_type_2</th>\n",
       "      <th>renew_offer_type_3</th>\n",
       "      <th>renew_offer_type_4</th>\n",
       "      <th>sales_channel_Branch</th>\n",
       "      <th>sales_channel_Call Center</th>\n",
       "      <th>sales_channel_Web</th>\n",
       "      <th>vehicle_class_Luxury</th>\n",
       "      <th>vehicle_class_SUV</th>\n",
       "      <th>vehicle_class_Two-Door Car</th>\n",
       "    </tr>\n",
       "  </thead>\n",
       "  <tbody>\n",
       "    <tr>\n",
       "      <th>0</th>\n",
       "      <td>0.0</td>\n",
       "      <td>0.0</td>\n",
       "      <td>1.0</td>\n",
       "      <td>0.0</td>\n",
       "      <td>0.0</td>\n",
       "      <td>0.0</td>\n",
       "      <td>1.0</td>\n",
       "      <td>1.0</td>\n",
       "      <td>0.0</td>\n",
       "      <td>0.0</td>\n",
       "      <td>...</td>\n",
       "      <td>1.0</td>\n",
       "      <td>0.0</td>\n",
       "      <td>0.0</td>\n",
       "      <td>0.0</td>\n",
       "      <td>0.0</td>\n",
       "      <td>0.0</td>\n",
       "      <td>1.0</td>\n",
       "      <td>0.0</td>\n",
       "      <td>0.0</td>\n",
       "      <td>0.0</td>\n",
       "    </tr>\n",
       "    <tr>\n",
       "      <th>1</th>\n",
       "      <td>0.0</td>\n",
       "      <td>1.0</td>\n",
       "      <td>0.0</td>\n",
       "      <td>0.0</td>\n",
       "      <td>0.0</td>\n",
       "      <td>0.0</td>\n",
       "      <td>0.0</td>\n",
       "      <td>0.0</td>\n",
       "      <td>1.0</td>\n",
       "      <td>0.0</td>\n",
       "      <td>...</td>\n",
       "      <td>0.0</td>\n",
       "      <td>1.0</td>\n",
       "      <td>0.0</td>\n",
       "      <td>0.0</td>\n",
       "      <td>0.0</td>\n",
       "      <td>1.0</td>\n",
       "      <td>0.0</td>\n",
       "      <td>0.0</td>\n",
       "      <td>1.0</td>\n",
       "      <td>0.0</td>\n",
       "    </tr>\n",
       "    <tr>\n",
       "      <th>2</th>\n",
       "      <td>1.0</td>\n",
       "      <td>0.0</td>\n",
       "      <td>0.0</td>\n",
       "      <td>0.0</td>\n",
       "      <td>0.0</td>\n",
       "      <td>0.0</td>\n",
       "      <td>0.0</td>\n",
       "      <td>0.0</td>\n",
       "      <td>1.0</td>\n",
       "      <td>0.0</td>\n",
       "      <td>...</td>\n",
       "      <td>1.0</td>\n",
       "      <td>1.0</td>\n",
       "      <td>0.0</td>\n",
       "      <td>0.0</td>\n",
       "      <td>0.0</td>\n",
       "      <td>0.0</td>\n",
       "      <td>1.0</td>\n",
       "      <td>0.0</td>\n",
       "      <td>0.0</td>\n",
       "      <td>0.0</td>\n",
       "    </tr>\n",
       "    <tr>\n",
       "      <th>3</th>\n",
       "      <td>1.0</td>\n",
       "      <td>0.0</td>\n",
       "      <td>0.0</td>\n",
       "      <td>0.0</td>\n",
       "      <td>0.0</td>\n",
       "      <td>0.0</td>\n",
       "      <td>1.0</td>\n",
       "      <td>0.0</td>\n",
       "      <td>1.0</td>\n",
       "      <td>0.0</td>\n",
       "      <td>...</td>\n",
       "      <td>0.0</td>\n",
       "      <td>0.0</td>\n",
       "      <td>0.0</td>\n",
       "      <td>1.0</td>\n",
       "      <td>0.0</td>\n",
       "      <td>0.0</td>\n",
       "      <td>1.0</td>\n",
       "      <td>0.0</td>\n",
       "      <td>0.0</td>\n",
       "      <td>0.0</td>\n",
       "    </tr>\n",
       "    <tr>\n",
       "      <th>4</th>\n",
       "      <td>0.0</td>\n",
       "      <td>0.0</td>\n",
       "      <td>1.0</td>\n",
       "      <td>0.0</td>\n",
       "      <td>0.0</td>\n",
       "      <td>0.0</td>\n",
       "      <td>1.0</td>\n",
       "      <td>0.0</td>\n",
       "      <td>1.0</td>\n",
       "      <td>0.0</td>\n",
       "      <td>...</td>\n",
       "      <td>0.0</td>\n",
       "      <td>0.0</td>\n",
       "      <td>1.0</td>\n",
       "      <td>0.0</td>\n",
       "      <td>0.0</td>\n",
       "      <td>0.0</td>\n",
       "      <td>0.0</td>\n",
       "      <td>0.0</td>\n",
       "      <td>0.0</td>\n",
       "      <td>0.0</td>\n",
       "    </tr>\n",
       "  </tbody>\n",
       "</table>\n",
       "<p>5 rows × 23 columns</p>\n",
       "</div>"
      ],
      "text/plain": [
       "   state_California  state_Nevada  state_Oregon  state_Washington  \\\n",
       "0               0.0           0.0           1.0               0.0   \n",
       "1               0.0           1.0           0.0               0.0   \n",
       "2               1.0           0.0           0.0               0.0   \n",
       "3               1.0           0.0           0.0               0.0   \n",
       "4               0.0           0.0           1.0               0.0   \n",
       "\n",
       "   response_Yes  education_Postgraduate  education_Undergraduate  gender_M  \\\n",
       "0           0.0                     0.0                      1.0       1.0   \n",
       "1           0.0                     0.0                      0.0       0.0   \n",
       "2           0.0                     0.0                      0.0       0.0   \n",
       "3           0.0                     0.0                      1.0       0.0   \n",
       "4           0.0                     0.0                      1.0       0.0   \n",
       "\n",
       "   marital_status_Married  marital_status_Single  ...  policy_3  \\\n",
       "0                     0.0                    0.0  ...       1.0   \n",
       "1                     1.0                    0.0  ...       0.0   \n",
       "2                     1.0                    0.0  ...       1.0   \n",
       "3                     1.0                    0.0  ...       0.0   \n",
       "4                     1.0                    0.0  ...       0.0   \n",
       "\n",
       "   renew_offer_type_2  renew_offer_type_3  renew_offer_type_4  \\\n",
       "0                 0.0                 0.0                 0.0   \n",
       "1                 1.0                 0.0                 0.0   \n",
       "2                 1.0                 0.0                 0.0   \n",
       "3                 0.0                 0.0                 1.0   \n",
       "4                 0.0                 1.0                 0.0   \n",
       "\n",
       "   sales_channel_Branch  sales_channel_Call Center  sales_channel_Web  \\\n",
       "0                   0.0                        0.0                1.0   \n",
       "1                   0.0                        1.0                0.0   \n",
       "2                   0.0                        0.0                1.0   \n",
       "3                   0.0                        0.0                1.0   \n",
       "4                   0.0                        0.0                0.0   \n",
       "\n",
       "   vehicle_class_Luxury  vehicle_class_SUV  vehicle_class_Two-Door Car  \n",
       "0                   0.0                0.0                         0.0  \n",
       "1                   0.0                1.0                         0.0  \n",
       "2                   0.0                0.0                         0.0  \n",
       "3                   0.0                0.0                         0.0  \n",
       "4                   0.0                0.0                         0.0  \n",
       "\n",
       "[5 rows x 23 columns]"
      ]
     },
     "execution_count": 113,
     "metadata": {},
     "output_type": "execute_result"
    }
   ],
   "source": [
    "encoded_test = encoder.transform(X_test_onehot).toarray()\n",
    "cols = encoder.get_feature_names(input_features=X_test_onehot.columns)\n",
    "onehot_encoded_test = pd.DataFrame(encoded_test, columns=cols)\n",
    "onehot_encoded_test.head()"
   ]
  },
  {
   "cell_type": "code",
   "execution_count": 114,
   "id": "9f06c328",
   "metadata": {},
   "outputs": [],
   "source": [
    "X_test_ordinal = X_test_cat.drop(X_test_onehot, axis=1)"
   ]
  },
  {
   "cell_type": "code",
   "execution_count": 115,
   "id": "6bbb4f24",
   "metadata": {},
   "outputs": [],
   "source": [
    "#X_train_ordinal.apply(pd.Series.unique)"
   ]
  },
  {
   "cell_type": "code",
   "execution_count": 116,
   "id": "5bc99562",
   "metadata": {},
   "outputs": [],
   "source": [
    "X_test_ordinal[\"coverage\"] = X_test_ordinal[\"coverage\"].map({\"Basic\" : 0, \"Extended\" : 1, \"Premium\" : 2})\n",
    "X_test_ordinal[\"employmentstatus\"] = X_test_ordinal[\"employmentstatus\"].map({\"Retired\" : 0, \"Unemployed\" : 1, \"Employed\" : 1})\n",
    "X_test_ordinal[\"location_code\"] = X_test_ordinal[\"location_code\"].map({\"Rural\" : 0, \"Suburban\" : 1, \"Urban\" : 2})\n",
    "X_test_ordinal[\"vehicle_size\"] = X_test_ordinal[\"vehicle_size\"].map({\"Small\" : 0, \"Medsize\" : 1, \"Large\" : 2})"
   ]
  },
  {
   "cell_type": "code",
   "execution_count": 117,
   "id": "2b0fc258",
   "metadata": {},
   "outputs": [
    {
     "data": {
      "text/html": [
       "<div>\n",
       "<style scoped>\n",
       "    .dataframe tbody tr th:only-of-type {\n",
       "        vertical-align: middle;\n",
       "    }\n",
       "\n",
       "    .dataframe tbody tr th {\n",
       "        vertical-align: top;\n",
       "    }\n",
       "\n",
       "    .dataframe thead th {\n",
       "        text-align: right;\n",
       "    }\n",
       "</style>\n",
       "<table border=\"1\" class=\"dataframe\">\n",
       "  <thead>\n",
       "    <tr style=\"text-align: right;\">\n",
       "      <th></th>\n",
       "      <th>index</th>\n",
       "      <th>effective_to_date</th>\n",
       "      <th>customer_lifetime_value</th>\n",
       "      <th>income</th>\n",
       "      <th>monthly_premium_auto</th>\n",
       "      <th>months_since_last_claim</th>\n",
       "      <th>months_since_policy_inception</th>\n",
       "      <th>number_of_open_complaints</th>\n",
       "      <th>number_of_policies</th>\n",
       "    </tr>\n",
       "  </thead>\n",
       "  <tbody>\n",
       "    <tr>\n",
       "      <th>0</th>\n",
       "      <td>0</td>\n",
       "      <td>-0.161521</td>\n",
       "      <td>-0.420154</td>\n",
       "      <td>0.628708</td>\n",
       "      <td>-0.815199</td>\n",
       "      <td>-1.102339</td>\n",
       "      <td>1.441982</td>\n",
       "      <td>0.678691</td>\n",
       "      <td>1.261806</td>\n",
       "    </tr>\n",
       "    <tr>\n",
       "      <th>1</th>\n",
       "      <td>1</td>\n",
       "      <td>-0.625310</td>\n",
       "      <td>-0.453878</td>\n",
       "      <td>-0.535916</td>\n",
       "      <td>0.861964</td>\n",
       "      <td>-1.202123</td>\n",
       "      <td>-1.294777</td>\n",
       "      <td>-0.420631</td>\n",
       "      <td>-0.821436</td>\n",
       "    </tr>\n",
       "    <tr>\n",
       "      <th>2</th>\n",
       "      <td>2</td>\n",
       "      <td>0.188355</td>\n",
       "      <td>-0.365039</td>\n",
       "      <td>-0.119332</td>\n",
       "      <td>-0.728450</td>\n",
       "      <td>-0.403854</td>\n",
       "      <td>1.261932</td>\n",
       "      <td>-0.420631</td>\n",
       "      <td>2.511752</td>\n",
       "    </tr>\n",
       "    <tr>\n",
       "      <th>3</th>\n",
       "      <td>3</td>\n",
       "      <td>0.188355</td>\n",
       "      <td>-0.626959</td>\n",
       "      <td>-0.657119</td>\n",
       "      <td>0.081216</td>\n",
       "      <td>-0.902772</td>\n",
       "      <td>-1.546847</td>\n",
       "      <td>-0.420631</td>\n",
       "      <td>-0.821436</td>\n",
       "    </tr>\n",
       "    <tr>\n",
       "      <th>4</th>\n",
       "      <td>4</td>\n",
       "      <td>-1.323899</td>\n",
       "      <td>0.102248</td>\n",
       "      <td>0.501212</td>\n",
       "      <td>0.457132</td>\n",
       "      <td>-1.002555</td>\n",
       "      <td>0.433702</td>\n",
       "      <td>-0.420631</td>\n",
       "      <td>2.095103</td>\n",
       "    </tr>\n",
       "    <tr>\n",
       "      <th>...</th>\n",
       "      <td>...</td>\n",
       "      <td>...</td>\n",
       "      <td>...</td>\n",
       "      <td>...</td>\n",
       "      <td>...</td>\n",
       "      <td>...</td>\n",
       "      <td>...</td>\n",
       "      <td>...</td>\n",
       "      <td>...</td>\n",
       "    </tr>\n",
       "    <tr>\n",
       "      <th>2279</th>\n",
       "      <td>2279</td>\n",
       "      <td>-1.671450</td>\n",
       "      <td>-0.652198</td>\n",
       "      <td>-0.205087</td>\n",
       "      <td>-0.034451</td>\n",
       "      <td>0.893332</td>\n",
       "      <td>1.694052</td>\n",
       "      <td>3.976660</td>\n",
       "      <td>-0.821436</td>\n",
       "    </tr>\n",
       "    <tr>\n",
       "      <th>2280</th>\n",
       "      <td>2280</td>\n",
       "      <td>-1.556375</td>\n",
       "      <td>1.543611</td>\n",
       "      <td>0.935619</td>\n",
       "      <td>-0.786283</td>\n",
       "      <td>-1.102339</td>\n",
       "      <td>1.802081</td>\n",
       "      <td>-0.420631</td>\n",
       "      <td>-0.404788</td>\n",
       "    </tr>\n",
       "    <tr>\n",
       "      <th>2281</th>\n",
       "      <td>2281</td>\n",
       "      <td>-1.555212</td>\n",
       "      <td>-0.795100</td>\n",
       "      <td>-0.077558</td>\n",
       "      <td>-0.844116</td>\n",
       "      <td>1.092900</td>\n",
       "      <td>-0.538567</td>\n",
       "      <td>-0.420631</td>\n",
       "      <td>-0.821436</td>\n",
       "    </tr>\n",
       "    <tr>\n",
       "      <th>2282</th>\n",
       "      <td>2282</td>\n",
       "      <td>-0.160359</td>\n",
       "      <td>-0.790680</td>\n",
       "      <td>1.292343</td>\n",
       "      <td>-0.844116</td>\n",
       "      <td>-1.301906</td>\n",
       "      <td>0.721782</td>\n",
       "      <td>-0.420631</td>\n",
       "      <td>-0.821436</td>\n",
       "    </tr>\n",
       "    <tr>\n",
       "      <th>2283</th>\n",
       "      <td>2283</td>\n",
       "      <td>0.303430</td>\n",
       "      <td>-0.454562</td>\n",
       "      <td>-1.235527</td>\n",
       "      <td>-0.786283</td>\n",
       "      <td>-1.102339</td>\n",
       "      <td>-0.646597</td>\n",
       "      <td>-0.420631</td>\n",
       "      <td>0.845158</td>\n",
       "    </tr>\n",
       "  </tbody>\n",
       "</table>\n",
       "<p>2284 rows × 9 columns</p>\n",
       "</div>"
      ],
      "text/plain": [
       "      index  effective_to_date  customer_lifetime_value    income  \\\n",
       "0         0          -0.161521                -0.420154  0.628708   \n",
       "1         1          -0.625310                -0.453878 -0.535916   \n",
       "2         2           0.188355                -0.365039 -0.119332   \n",
       "3         3           0.188355                -0.626959 -0.657119   \n",
       "4         4          -1.323899                 0.102248  0.501212   \n",
       "...     ...                ...                      ...       ...   \n",
       "2279   2279          -1.671450                -0.652198 -0.205087   \n",
       "2280   2280          -1.556375                 1.543611  0.935619   \n",
       "2281   2281          -1.555212                -0.795100 -0.077558   \n",
       "2282   2282          -0.160359                -0.790680  1.292343   \n",
       "2283   2283           0.303430                -0.454562 -1.235527   \n",
       "\n",
       "      monthly_premium_auto  months_since_last_claim  \\\n",
       "0                -0.815199                -1.102339   \n",
       "1                 0.861964                -1.202123   \n",
       "2                -0.728450                -0.403854   \n",
       "3                 0.081216                -0.902772   \n",
       "4                 0.457132                -1.002555   \n",
       "...                    ...                      ...   \n",
       "2279             -0.034451                 0.893332   \n",
       "2280             -0.786283                -1.102339   \n",
       "2281             -0.844116                 1.092900   \n",
       "2282             -0.844116                -1.301906   \n",
       "2283             -0.786283                -1.102339   \n",
       "\n",
       "      months_since_policy_inception  number_of_open_complaints  \\\n",
       "0                          1.441982                   0.678691   \n",
       "1                         -1.294777                  -0.420631   \n",
       "2                          1.261932                  -0.420631   \n",
       "3                         -1.546847                  -0.420631   \n",
       "4                          0.433702                  -0.420631   \n",
       "...                             ...                        ...   \n",
       "2279                       1.694052                   3.976660   \n",
       "2280                       1.802081                  -0.420631   \n",
       "2281                      -0.538567                  -0.420631   \n",
       "2282                       0.721782                  -0.420631   \n",
       "2283                      -0.646597                  -0.420631   \n",
       "\n",
       "      number_of_policies  \n",
       "0               1.261806  \n",
       "1              -0.821436  \n",
       "2               2.511752  \n",
       "3              -0.821436  \n",
       "4               2.095103  \n",
       "...                  ...  \n",
       "2279           -0.821436  \n",
       "2280           -0.404788  \n",
       "2281           -0.821436  \n",
       "2282           -0.821436  \n",
       "2283            0.845158  \n",
       "\n",
       "[2284 rows x 9 columns]"
      ]
     },
     "execution_count": 117,
     "metadata": {},
     "output_type": "execute_result"
    }
   ],
   "source": [
    "X_test_ordinal = X_test_ordinal.reset_index()\n",
    "onehot_encoded_test = onehot_encoded_test.reset_index()\n",
    "x_standardized_test.reset_index()\n",
    "#X_test_continuous = X_test_continuous.reset_index()\n",
    "#X_test_discrete = X_test_discrete.reset_index()"
   ]
  },
  {
   "cell_type": "markdown",
   "id": "14138b65",
   "metadata": {},
   "source": [
    "The time variable can be useful. Try to transform its data into a useful one. Hint: Day week and month as integers might be useful. #Done in lab 4.02"
   ]
  },
  {
   "cell_type": "markdown",
   "id": "21c9ae3c",
   "metadata": {},
   "source": [
    "Since the model will only accept numerical data, check and make sure that every column is numerical, if some are not, change it using encoding."
   ]
  },
  {
   "cell_type": "code",
   "execution_count": 118,
   "id": "7c66c2b6",
   "metadata": {},
   "outputs": [
    {
     "data": {
      "text/plain": [
       "(2284, 5)"
      ]
     },
     "metadata": {},
     "output_type": "display_data"
    },
    {
     "data": {
      "text/plain": [
       "(2284, 24)"
      ]
     },
     "metadata": {},
     "output_type": "display_data"
    },
    {
     "data": {
      "text/plain": [
       "(2284, 8)"
      ]
     },
     "metadata": {},
     "output_type": "display_data"
    }
   ],
   "source": [
    "display(X_test_ordinal.shape)\n",
    "display(onehot_encoded_test.shape)\n",
    "display(x_standardized_test.shape)\n",
    "#display(X_test_continuous.head())\n",
    "#display(X_test_discrete.head())"
   ]
  },
  {
   "cell_type": "code",
   "execution_count": 119,
   "id": "1f14ebc8",
   "metadata": {},
   "outputs": [],
   "source": [
    "X_test_over = pd.concat([X_test_ordinal,onehot_encoded_test,x_standardized_test],axis=1)"
   ]
  },
  {
   "cell_type": "code",
   "execution_count": 120,
   "id": "05aabd93",
   "metadata": {},
   "outputs": [
    {
     "data": {
      "text/plain": [
       "(2284, 37)"
      ]
     },
     "execution_count": 120,
     "metadata": {},
     "output_type": "execute_result"
    }
   ],
   "source": [
    "X_test_over.shape"
   ]
  },
  {
   "cell_type": "code",
   "execution_count": 121,
   "id": "316c2c1c",
   "metadata": {},
   "outputs": [
    {
     "data": {
      "text/plain": [
       "0.6115033235928771"
      ]
     },
     "execution_count": 121,
     "metadata": {},
     "output_type": "execute_result"
    }
   ],
   "source": [
    "score = lm.score(X_test_over, y_test)\n",
    "score"
   ]
  },
  {
   "cell_type": "markdown",
   "id": "4573b015",
   "metadata": {},
   "source": [
    "Great! Now define a function that takes a list of models and train (and tests) them so we can try a lot of them without repeating code."
   ]
  },
  {
   "cell_type": "code",
   "execution_count": 122,
   "id": "d1c67e1e",
   "metadata": {},
   "outputs": [],
   "source": [
    "def models(X_train, X_test, y_train, y_test): \n",
    "    from sklearn.neighbors import KNeighborsClassifier, KNeighborsRegressor\n",
    "    from sklearn.neural_network import MLPRegressor\n",
    "    from sklearn.linear_model import LinearRegression\n",
    "    \n",
    "    models_list = ['KNeighborsRegressor',LinearRegression,MLPRegressor]\n",
    "    \n",
    "    for model in models_list:\n",
    "        if model == 'KNeighborsRegressor':\n",
    "            k = int(input('Choose a k value:'))\n",
    "            model = KNeighborsRegressor(n_neighbors= k)\n",
    "            model.fit(X_train,y_train)\n",
    "            score = model.score(X_test, y_test)\n",
    "            print('The score for', model, 'is', score,)\n",
    "        else:\n",
    "            model = model()\n",
    "            model.fit(X_train,y_train)\n",
    "            score = model.score(X_test, y_test)\n",
    "            print('The score for', model, 'is', score,)"
   ]
  },
  {
   "cell_type": "markdown",
   "id": "6ba2568c",
   "metadata": {},
   "source": [
    "Use the function to check LinearRegressor and KNeighborsRegressor.\n",
    "\n",
    "You can check also the MLPRegressor for this task!\n",
    "\n",
    "Check and discuss the results."
   ]
  },
  {
   "cell_type": "code",
   "execution_count": 123,
   "id": "769c440f",
   "metadata": {},
   "outputs": [
    {
     "name": "stdout",
     "output_type": "stream",
     "text": [
      "Choose a k value:6\n",
      "The score for KNeighborsRegressor(n_neighbors=6) is -0.17435534919555473\n",
      "The score for LinearRegression() is 0.6115033235928771\n",
      "The score for MLPRegressor() is 0.5713466298000005\n"
     ]
    },
    {
     "name": "stderr",
     "output_type": "stream",
     "text": [
      "C:\\Users\\franc\\anaconda3\\lib\\site-packages\\sklearn\\neural_network\\_multilayer_perceptron.py:692: ConvergenceWarning: Stochastic Optimizer: Maximum iterations (200) reached and the optimization hasn't converged yet.\n",
      "  warnings.warn(\n"
     ]
    }
   ],
   "source": [
    "models(X_train_over, X_test_over, y_train, y_test)"
   ]
  },
  {
   "cell_type": "markdown",
   "id": "e24c66a1",
   "metadata": {},
   "source": [
    "#### def models(X,y): ### Work on the function to include all steps!\n",
    "    print('Which model do you want to run?')\n",
    "    model = input('Press K for KNeighbors Regressor, Li for Linear Regressor and Lo for Logistic Regressor:')\n",
    "\n",
    "    if model == 'K':\n",
    "        k = input('Input a value for k:')\n",
    "        KN = KNeighborsRegressor(n_neighbors= k)\n",
    "        KN.fit(X, y)\n",
    "        score = KN.score(X, y)\n",
    "        print('The score for your train data is:', score)\n",
    "        input('Now input your test data:')\n",
    "        X_test = input('Input X_test:')\n",
    "        y_test = input('Input your y_test:')\n",
    "        score = KN.score(X_test, y_test)\n",
    "        print('The score for your train data is:', score)\n",
    "    elif model == 'Li':\n",
    "        Li = linear_model.LinearRegression()\n",
    "        Li.fit(X_train_over,y_train)\n",
    "        score = Li.score(X, y)\n",
    "        print('The score for your train data is:', score)\n",
    "        input('Now input your test data:')\n",
    "        X_test = input('Input X_test:')\n",
    "        y_test = input('Input your y_test:')\n",
    "        score = Li.score(X_test, y_test)\n",
    "        print('The score for your train data is:', score)\n",
    "    else:\n",
    "        Lo = LogisticRegression(random_state=0, solver='lbfgs')\n",
    "        Lo.fit(X, y)\n",
    "        score = Lo.score(X, y)\n",
    "        print('The score for your train data is:', score)\n",
    "        input('Now input your test data:')\n",
    "        X_test = input('Input X_test:')\n",
    "        y_test = input('Input your y_test:') \n",
    "        score = Lo.score(X_test, y_test)\n",
    "        print('The score for your train data is:', score)"
   ]
  },
  {
   "cell_type": "code",
   "execution_count": null,
   "id": "b192ffa0",
   "metadata": {},
   "outputs": [],
   "source": []
  }
 ],
 "metadata": {
  "kernelspec": {
   "display_name": "Python 3 (ipykernel)",
   "language": "python",
   "name": "python3"
  },
  "language_info": {
   "codemirror_mode": {
    "name": "ipython",
    "version": 3
   },
   "file_extension": ".py",
   "mimetype": "text/x-python",
   "name": "python",
   "nbconvert_exporter": "python",
   "pygments_lexer": "ipython3",
   "version": "3.9.7"
  }
 },
 "nbformat": 4,
 "nbformat_minor": 5
}
